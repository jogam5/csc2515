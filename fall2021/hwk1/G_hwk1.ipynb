{
 "cells": [
  {
   "cell_type": "markdown",
   "id": "35d9c630-76df-40a4-b436-e21f429c7cac",
   "metadata": {},
   "source": [
    "### Homework 1"
   ]
  },
  {
   "cell_type": "code",
   "execution_count": 9,
   "id": "5681869d-38ac-40d2-8291-ae3addb7b22f",
   "metadata": {},
   "outputs": [],
   "source": [
    "import pandas as pd\n",
    "import numpy as np\n",
    "from sklearn.feature_extraction.text import CountVectorizer"
   ]
  },
  {
   "cell_type": "code",
   "execution_count": 4,
   "id": "526aeaa7-d086-44cc-8b1e-33292cdeb043",
   "metadata": {},
   "outputs": [],
   "source": [
    "dfFake = pd.read_csv(\"/Users/gabriel/python/csc2515/fall2021/clean_fake.txt\")"
   ]
  },
  {
   "cell_type": "code",
   "execution_count": 5,
   "id": "a4dec922-fd14-48fa-8b4b-13e146d8178b",
   "metadata": {},
   "outputs": [],
   "source": [
    "dfReal = pd.read_csv(\"/Users/gabriel/python/csc2515/fall2021/clean_real.txt\")"
   ]
  },
  {
   "cell_type": "markdown",
   "id": "7ab16f89-b295-46c4-b829-cfe136be5f2b",
   "metadata": {},
   "source": [
    "##### Exploring the data"
   ]
  },
  {
   "cell_type": "code",
   "execution_count": 6,
   "id": "67c6f4d9-de10-43c2-9e19-01eef8a1a15f",
   "metadata": {},
   "outputs": [
    {
     "name": "stdout",
     "output_type": "stream",
     "text": [
      "<class 'pandas.core.frame.DataFrame'>\n",
      "RangeIndex: 1297 entries, 0 to 1296\n",
      "Data columns (total 1 columns):\n",
      " #   Column                                    Non-Null Count  Dtype \n",
      "---  ------                                    --------------  ----- \n",
      " 0   trump warns of vote flipping on machines  1297 non-null   object\n",
      "dtypes: object(1)\n",
      "memory usage: 10.3+ KB\n"
     ]
    }
   ],
   "source": [
    "dfFake.info()"
   ]
  },
  {
   "cell_type": "code",
   "execution_count": 7,
   "id": "4abd39bc-3783-482d-bcfb-9e34f5788548",
   "metadata": {},
   "outputs": [
    {
     "name": "stdout",
     "output_type": "stream",
     "text": [
      "<class 'pandas.core.frame.DataFrame'>\n",
      "RangeIndex: 1967 entries, 0 to 1966\n",
      "Data columns (total 1 columns):\n",
      " #   Column                                                      Non-Null Count  Dtype \n",
      "---  ------                                                      --------------  ----- \n",
      " 0   donald trump do you remember the year since he was elected  1967 non-null   object\n",
      "dtypes: object(1)\n",
      "memory usage: 15.5+ KB\n"
     ]
    }
   ],
   "source": [
    "dfReal.info()"
   ]
  },
  {
   "cell_type": "code",
   "execution_count": null,
   "id": "53a85677-68ef-4ac8-aeac-43824f1344b6",
   "metadata": {},
   "outputs": [],
   "source": []
  }
 ],
 "metadata": {
  "kernelspec": {
   "display_name": "Python 3 (ipykernel)",
   "language": "python",
   "name": "python3"
  },
  "language_info": {
   "codemirror_mode": {
    "name": "ipython",
    "version": 3
   },
   "file_extension": ".py",
   "mimetype": "text/x-python",
   "name": "python",
   "nbconvert_exporter": "python",
   "pygments_lexer": "ipython3",
   "version": "3.7.10"
  }
 },
 "nbformat": 4,
 "nbformat_minor": 5
}
