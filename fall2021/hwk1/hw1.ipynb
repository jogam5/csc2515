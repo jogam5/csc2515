{
 "cells": [
  {
   "cell_type": "code",
   "execution_count": 56,
   "id": "988ccf9d",
   "metadata": {},
   "outputs": [],
   "source": [
    "import numpy as np\n",
    "import math\n",
    "\n",
    "from sklearn import tree\n",
    "from sklearn.feature_extraction.text import CountVectorizer\n",
    "from sklearn.tree import DecisionTreeClassifier, export_graphviz\n",
    "from sklearn.model_selection import ShuffleSplit, train_test_split\n",
    "from sklearn.metrics import accuracy_score\n",
    "import matplotlib.pyplot as plt"
   ]
  },
  {
   "cell_type": "code",
   "execution_count": 2,
   "id": "5eebe152",
   "metadata": {},
   "outputs": [],
   "source": [
    "# criteria for splits\n",
    "SPL_CRITERIA = ['gini', 'entropy']\n",
    "# data paths\n",
    "CLEAN_REAL_PATH = \"data/clean_real.txt\"\n",
    "CLEAN_FAKE_PATH = \"data/clean_fake.txt\"\n",
    "# class labels\n",
    "REAL_LABEL = '1'\n",
    "FAKE_LABEL = '0'"
   ]
  },
  {
   "cell_type": "code",
   "execution_count": 3,
   "id": "60170246",
   "metadata": {},
   "outputs": [],
   "source": [
    "'''\n",
    "this is question 3a.\n",
    "''' \n",
    "\n",
    "def load_data():\n",
    "    f = open(CLEAN_REAL_PATH, \"r\")\n",
    "    real_headlines = f.read().splitlines() # ?\n",
    "    f.close()\n",
    "\n",
    "    f = open(CLEAN_FAKE_PATH, \"r\")\n",
    "    fake_headlines = f.read().splitlines()\n",
    "    f.close()\n",
    "\n",
    "    count_real = len(real_headlines)\n",
    "    count_fake = len(fake_headlines)\n",
    "    count_total = count_real + count_fake\n",
    "    all_headlines = np.asarray(real_headlines + fake_headlines) # ?\n",
    "    print(all_headlines)\n",
    "\n",
    "    vectorizer = CountVectorizer() \n",
    "    X = vectorizer.fit_transform(all_headlines)\n",
    "\n",
    "    # Adding labels after vectorizer\n",
    "    real_labels = np.full((count_real, 1), REAL_LABEL) # ?\n",
    "    fake_labels = np.full((count_fake, 1), FAKE_LABEL)\n",
    "    all_labels = np.append(real_labels, fake_labels)\n",
    "\n",
    "    \n",
    "    b = all_labels.reshape(1, count_total) # ? \n",
    "    y = b.T\n",
    "\n",
    "    # 70 / 30 split into train + (test+val)\n",
    "    X_train, X_temp, y_train, y_temp = train_test_split(X, y, \n",
    "        test_size=0.3, random_state=1)\n",
    "\n",
    "    # then split 30 into 15 validation, 15 test\n",
    "    X_val, X_test, y_val, y_test = train_test_split(X_temp, y_temp, \n",
    "        test_size=0.5, random_state=1)\n",
    "\n",
    "    return X_train, X_val, X_test, y_train, y_val, y_test, count_total, vectorizer"
   ]
  },
  {
   "cell_type": "code",
   "execution_count": 4,
   "id": "423a1201",
   "metadata": {},
   "outputs": [
    {
     "name": "stdout",
     "output_type": "stream",
     "text": [
      "['donald trump do you remember the year since he was elected'\n",
      " 'trump defends son over emails as moscow hits back'\n",
      " 'donald trump strategist says media wont easily give back america' ...\n",
      " 'breaking donald trump makes major clinton indictment announcement details'\n",
      " 'no hate crimes have not intensified since trump election'\n",
      " 'who to blame for president trump']\n"
     ]
    }
   ],
   "source": [
    "X_train, X_val, X_test, y_train, y_val, y_test, count_total, vectorizer = load_data()"
   ]
  },
  {
   "cell_type": "code",
   "execution_count": 5,
   "id": "75a253d5",
   "metadata": {},
   "outputs": [
    {
     "data": {
      "text/plain": [
       "((2286, 5799), (490, 5799))"
      ]
     },
     "execution_count": 5,
     "metadata": {},
     "output_type": "execute_result"
    }
   ],
   "source": [
    "X_train.shape, X_test.shape"
   ]
  },
  {
   "cell_type": "code",
   "execution_count": 6,
   "id": "610995d3",
   "metadata": {},
   "outputs": [
    {
     "data": {
      "text/plain": [
       "((2286, 1), (490, 1))"
      ]
     },
     "execution_count": 6,
     "metadata": {},
     "output_type": "execute_result"
    }
   ],
   "source": [
    "y_train.shape, y_test.shape"
   ]
  },
  {
   "cell_type": "code",
   "execution_count": 7,
   "id": "4b42b538",
   "metadata": {},
   "outputs": [
    {
     "data": {
      "text/plain": [
       "array([['0'],\n",
       "       ['1'],\n",
       "       ['1'],\n",
       "       ['1'],\n",
       "       ['1'],\n",
       "       ['1'],\n",
       "       ['1'],\n",
       "       ['1'],\n",
       "       ['1'],\n",
       "       ['1']], dtype='<U1')"
      ]
     },
     "execution_count": 7,
     "metadata": {},
     "output_type": "execute_result"
    }
   ],
   "source": [
    "y_train[:10]"
   ]
  },
  {
   "cell_type": "code",
   "execution_count": 8,
   "id": "36322eb4",
   "metadata": {},
   "outputs": [],
   "source": [
    "'''\n",
    "this is question 3 b\n",
    "'''\n",
    "\n",
    "def fit_tree(params, X_train, y_train, X_val, y_val):\n",
    "    \"\"\"to fit the decision tree with a specific criteria and depth\"\"\"\n",
    "    \n",
    "    clf = DecisionTreeClassifier(\n",
    "            max_depth=params[\"max_depth\"], \n",
    "            criterion=params[\"criteria\"],\n",
    "            splitter=\"random\", # ?\n",
    "    )\n",
    "    # train \n",
    "    clf.fit(X=X_train, y=y_train) \n",
    "\n",
    "    # validate \n",
    "    y_pred = clf.predict(X=X_val)\n",
    "    correct = sum(i == j for i, j in zip(y_pred, y_val)) # ?\n",
    "    score = correct / y_val.shape[0]\n",
    "    print(f\"max_depth: {params['max_depth']} | criteria: {params['criteria']} | score: {score}\")\n",
    "\n",
    "    return score, clf\n",
    "\n",
    "\n",
    "\n",
    "def select_tree_model(X_train, y_train, X_val, y_val, max_depth):\n",
    "    best_score = -1\n",
    "    best_tree = None\n",
    "    \n",
    "    # make different params \n",
    "    params = []\n",
    "    for i in range(1, max_depth+1):\n",
    "        for criteria in SPL_CRITERIA:\n",
    "            params.append({\n",
    "                \"max_depth\": i,\n",
    "                \"criteria\": criteria \n",
    "            })\n",
    "    \n",
    "    # fit and validate on each param\n",
    "    for param in params:\n",
    "        score, clf = fit_tree(param, X_train, y_train, X_val, y_val)\n",
    "        if (score > best_score):\n",
    "            best_score = score\n",
    "            best_tree = clf\n",
    "\n",
    "    print(f\"Best hyperparameters are: max_depth = {best_tree.max_depth}, criteria = {best_tree.criterion}, score = {best_score}\")\n",
    "\n",
    "    return best_tree"
   ]
  },
  {
   "cell_type": "code",
   "execution_count": 9,
   "id": "fbe30f09",
   "metadata": {},
   "outputs": [
    {
     "name": "stdout",
     "output_type": "stream",
     "text": [
      "max_depth: 1 | criteria: gini | score: [0.58979592]\n",
      "max_depth: 1 | criteria: entropy | score: [0.58979592]\n",
      "max_depth: 2 | criteria: gini | score: [0.63061224]\n",
      "max_depth: 2 | criteria: entropy | score: [0.63061224]\n",
      "max_depth: 3 | criteria: gini | score: [0.68367347]\n",
      "max_depth: 3 | criteria: entropy | score: [0.62040816]\n",
      "max_depth: 4 | criteria: gini | score: [0.64693878]\n",
      "max_depth: 4 | criteria: entropy | score: [0.71020408]\n",
      "max_depth: 5 | criteria: gini | score: [0.66122449]\n",
      "max_depth: 5 | criteria: entropy | score: [0.64285714]\n",
      "max_depth: 6 | criteria: gini | score: [0.71836735]\n",
      "max_depth: 6 | criteria: entropy | score: [0.71836735]\n",
      "max_depth: 7 | criteria: gini | score: [0.66530612]\n",
      "max_depth: 7 | criteria: entropy | score: [0.71428571]\n",
      "max_depth: 8 | criteria: gini | score: [0.72040816]\n",
      "max_depth: 8 | criteria: entropy | score: [0.71836735]\n",
      "max_depth: 9 | criteria: gini | score: [0.71836735]\n",
      "max_depth: 9 | criteria: entropy | score: [0.7122449]\n",
      "max_depth: 10 | criteria: gini | score: [0.72040816]\n",
      "max_depth: 10 | criteria: entropy | score: [0.72653061]\n",
      "max_depth: 11 | criteria: gini | score: [0.74081633]\n",
      "max_depth: 11 | criteria: entropy | score: [0.73265306]\n",
      "max_depth: 12 | criteria: gini | score: [0.74081633]\n",
      "max_depth: 12 | criteria: entropy | score: [0.72653061]\n",
      "max_depth: 13 | criteria: gini | score: [0.74285714]\n",
      "max_depth: 13 | criteria: entropy | score: [0.73469388]\n",
      "max_depth: 14 | criteria: gini | score: [0.75102041]\n",
      "max_depth: 14 | criteria: entropy | score: [0.73673469]\n",
      "max_depth: 15 | criteria: gini | score: [0.75714286]\n",
      "max_depth: 15 | criteria: entropy | score: [0.74897959]\n",
      "max_depth: 16 | criteria: gini | score: [0.74081633]\n",
      "max_depth: 16 | criteria: entropy | score: [0.74081633]\n",
      "max_depth: 17 | criteria: gini | score: [0.74285714]\n",
      "max_depth: 17 | criteria: entropy | score: [0.75102041]\n",
      "max_depth: 18 | criteria: gini | score: [0.74693878]\n",
      "max_depth: 18 | criteria: entropy | score: [0.75510204]\n",
      "max_depth: 19 | criteria: gini | score: [0.73469388]\n",
      "max_depth: 19 | criteria: entropy | score: [0.74693878]\n",
      "max_depth: 20 | criteria: gini | score: [0.74285714]\n",
      "max_depth: 20 | criteria: entropy | score: [0.74285714]\n",
      "Best hyperparameters are: max_depth = 15, criteria = gini, score = [0.75714286]\n"
     ]
    }
   ],
   "source": [
    "clf = select_tree_model(X_train, y_train, X_val, y_val, 20)"
   ]
  },
  {
   "cell_type": "code",
   "execution_count": 10,
   "id": "4c50b16c",
   "metadata": {},
   "outputs": [],
   "source": [
    "'''\n",
    "question 3 c\n",
    "'''\n",
    "\n",
    "TEST_DATA_X = 'data/data_test_X.csv'\n",
    "TEST_DATA_y = 'data/data_test_y.csv'\n",
    "\n",
    "BEST_PARAMS = {\n",
    "    'max_depth' : 23,\n",
    "    'criteria' : 'entropy',\n",
    "}\n",
    "\n",
    "def test_model():\n",
    "#     f = open(TEST_DATA_X, \"r\")\n",
    "#     X_test = f.read()\n",
    "#     f.close()\n",
    "    \n",
    "#     f = open(TEST_DATA_y, \"r\")\n",
    "#     y_test = f.read()\n",
    "#     f.close()\n",
    "    \n",
    "    y_out = clf.predict(X_test) # ?\n",
    "    \n",
    "    return y_out\n",
    "    "
   ]
  },
  {
   "cell_type": "code",
   "execution_count": 11,
   "id": "b33ecd45",
   "metadata": {
    "scrolled": true
   },
   "outputs": [
    {
     "data": {
      "text/plain": [
       "array(['1', '1', '1', '1', '1', '0', '0', '1', '0', '1', '1', '0', '1',\n",
       "       '1', '0', '0', '1', '0', '0', '1', '1', '0', '1', '1', '1', '1',\n",
       "       '1', '1', '1', '0', '1', '0', '0', '1', '1', '1', '1', '0', '1',\n",
       "       '1', '1', '1', '1', '0', '0', '1', '0', '1', '1', '1', '1', '1',\n",
       "       '1', '1', '1', '0', '0', '0', '0', '0', '1', '1', '1', '1', '1',\n",
       "       '0', '1', '1', '1', '1', '1', '1', '1', '1', '1', '1', '1', '1',\n",
       "       '0', '1', '1', '1', '1', '1', '0', '1', '1', '1', '0', '1', '1',\n",
       "       '1', '1', '1', '0', '1', '0', '1', '1', '1', '1', '1', '1', '1',\n",
       "       '0', '1', '1', '0', '0', '1', '1', '1', '0', '1', '1', '1', '1',\n",
       "       '1', '0', '1', '1', '0', '0', '1', '1', '1', '0', '1', '1', '1',\n",
       "       '1', '1', '1', '0', '0', '1', '0', '1', '1', '1', '1', '0', '1',\n",
       "       '1', '1', '1', '1', '1', '1', '1', '1', '1', '0', '1', '1', '1',\n",
       "       '0', '1', '0', '0', '1', '1', '1', '1', '1', '1', '1', '1', '1',\n",
       "       '1', '1', '0', '0', '0', '1', '1', '1', '1', '1', '1', '1', '1',\n",
       "       '1', '0', '1', '1', '1', '1', '1', '0', '1', '0', '1', '1', '1',\n",
       "       '0', '1', '1', '1', '0', '1', '1', '0', '1', '1', '0', '1', '1',\n",
       "       '0', '0', '1', '1', '1', '0', '1', '1', '1', '1', '1', '1', '1',\n",
       "       '1', '0', '0', '0', '1', '1', '0', '1', '0', '1', '1', '0', '1',\n",
       "       '0', '1', '1', '1', '1', '0', '1', '1', '1', '1', '1', '0', '1',\n",
       "       '1', '1', '1', '1', '1', '1', '1', '1', '1', '1', '0', '1', '1',\n",
       "       '1', '1', '1', '1', '1', '1', '1', '0', '0', '1', '1', '1', '1',\n",
       "       '0', '1', '1', '0', '1', '0', '0', '0', '1', '1', '1', '0', '1',\n",
       "       '1', '0', '1', '1', '1', '1', '1', '1', '1', '1', '1', '1', '1',\n",
       "       '1', '0', '1', '1', '1', '1', '1', '1', '1', '1', '1', '0', '0',\n",
       "       '1', '1', '0', '0', '1', '1', '1', '0', '1', '1', '0', '1', '1',\n",
       "       '1', '1', '0', '1', '0', '1', '1', '1', '1', '1', '0', '1', '1',\n",
       "       '1', '1', '0', '1', '0', '0', '1', '1', '1', '0', '1', '0', '1',\n",
       "       '1', '1', '1', '1', '1', '1', '1', '0', '1', '1', '1', '0', '1',\n",
       "       '1', '1', '0', '1', '0', '1', '1', '1', '1', '1', '1', '1', '1',\n",
       "       '1', '1', '1', '1', '1', '1', '0', '1', '0', '1', '1', '1', '1',\n",
       "       '0', '1', '1', '0', '0', '1', '1', '1', '1', '1', '1', '1', '1',\n",
       "       '1', '1', '1', '1', '1', '1', '0', '1', '0', '1', '1', '1', '1',\n",
       "       '1', '1', '0', '1', '1', '1', '1', '1', '1', '1', '1', '0', '1',\n",
       "       '0', '1', '1', '1', '1', '1', '0', '1', '1', '1', '0', '1', '0',\n",
       "       '1', '1', '1', '1', '0', '0', '1', '1', '0', '0', '0', '0', '0',\n",
       "       '0', '1', '1', '1', '1', '0', '0', '0', '1', '0', '1', '1', '0',\n",
       "       '1', '1', '1', '1', '1', '1', '1', '1', '1', '1', '1', '1', '1',\n",
       "       '1', '1', '1', '1', '0', '1', '0', '1', '1'], dtype='<U1')"
      ]
     },
     "execution_count": 11,
     "metadata": {},
     "output_type": "execute_result"
    }
   ],
   "source": [
    "y_out = test_model()\n",
    "y_out"
   ]
  },
  {
   "cell_type": "code",
   "execution_count": 12,
   "id": "749c2527",
   "metadata": {},
   "outputs": [
    {
     "data": {
      "text/plain": [
       "0.763265306122449"
      ]
     },
     "execution_count": 12,
     "metadata": {},
     "output_type": "execute_result"
    }
   ],
   "source": [
    "# accuracy \n",
    "accuracy_score(y_test, y_out)"
   ]
  },
  {
   "cell_type": "code",
   "execution_count": 57,
   "id": "9326e156",
   "metadata": {},
   "outputs": [],
   "source": [
    "# plotting the first 2 layers\n",
    "\n",
    "def visualize(clf):\n",
    "    plt.figure(figsize=(12,12))  # set plot size (denoted in inches)\n",
    "    tree.plot_tree(clf, max_depth=2, filled = True, fontsize=10)\n",
    "    plt.show()\n",
    "    plt.savefig('tree_depth_2', dpi=100)"
   ]
  },
  {
   "cell_type": "code",
   "execution_count": 15,
   "id": "76799c7c",
   "metadata": {},
   "outputs": [
    {
     "data": {
      "image/png": "[encoded data removed]",
      "text/plain": [
       "<Figure size 864x864 with 1 Axes>"
      ]
     },
     "metadata": {
      "needs_background": "light"
     },
     "output_type": "display_data"
    },
    {
     "data": {
      "text/plain": [
       "<Figure size 432x288 with 0 Axes>"
      ]
     },
     "metadata": {},
     "output_type": "display_data"
    }
   ],
   "source": [
    "visualize(clf)"
   ]
  },
  {
   "cell_type": "code",
   "execution_count": 121,
   "id": "815028c1-e77e-4324-9bdc-c4111ead93b2",
   "metadata": {},
   "outputs": [],
   "source": [
    "def IG(clf, feature_id):\n",
    "    \"\"\"\n",
    "    IG(Classifier clf, int feature_id)\n",
    "    ======\n",
    "    Returns the information gain of a split in the feature_id given,\n",
    "    the higher the information gain, the better the split.\n",
    "    \n",
    "    The feature_id can be obtained from the tree visualization.\n",
    "    \n",
    "    Sources:\n",
    "    Tree structure: https://scikit-learn.org/stable/auto_examples/tree/plot_unveil_tree_structure.html\n",
    "    Mathematical formulation of Entropy used in SciKit: https://scikit-learn.org/stable/modules/tree.html\n",
    "    Entropy or impuirity as per SciKit: https://scikit-learn.org/stable/modules/generated/sklearn.tree.DecisionTreeClassifier.html#sklearn.tree.DecisionTreeClassifier\n",
    "    \"\"\"\n",
    "    tree_features = clf.tree_.feature\n",
    "    num_features = clf.tree_.n_features\n",
    "    node_samples = clf.tree_.weighted_n_node_samples\n",
    "    feature_importance = np.zeros((num_features,)) # Feature importance as an array\n",
    "    left_branch = clf.tree_.children_left # Index of features for left branch\n",
    "    right_branch = clf.tree_.children_right # Index of features for right branch\n",
    "\n",
    "    # Impurity is interpreted as Entropy\n",
    "    entropy = clf.tree_.impurity    \n",
    "\n",
    "    for nodeIndex,node in enumerate(clf.tree_.feature):\n",
    "        if node >= 0:\n",
    "            # Accumulate the feature importance over the nodes where it's used\n",
    "            entropy_before_split = entropy[nodeIndex]*node_samples[nodeIndex]\n",
    "            entropy_left_branch = entropy[left_branch[nodeIndex]]*node_samples[left_branch[nodeIndex]]\n",
    "            entropy_right_branch = entropy[right_branch[nodeIndex]]*node_samples[right_branch[nodeIndex]]\n",
    "            \n",
    "            feature_importance[node] += entropy_before_split - entropy_left_branch - entropy_right_branch\n",
    "\n",
    "    # Total number of samples at the root node\n",
    "    feature_importance = feature_importance / node_samples[0]\n",
    "\n",
    "    #Normalize the feature importance?\n",
    "    #norm = feature_importance.sum()\n",
    "    #if norm > 0:\n",
    "    #    feature_importance = feature_importance / norm\n",
    "    \n",
    "    information_gain = -1\n",
    "    \n",
    "    # Adding feature_id column\n",
    "    features = tree_features[tree_features>=0] # Negative feature is a leaf node\n",
    "    features_list_by_id = list(zip(features,feature_importance[features]))\n",
    "    for feat in features_list_by_id:\n",
    "        if feat[0] == feature_id:\n",
    "            information_gain = feat[1]\n",
    "    \n",
    "    print('The information gain (IG) of splitting the tree by feature_id {0} is {1}.'.format(feature_id, information_gain))\n",
    "\n",
    "    return information_gain"
   ]
  },
  {
   "cell_type": "code",
   "execution_count": 130,
   "id": "bf98a662-784b-49a6-b404-6d0cb4c2ffc5",
   "metadata": {
    "tags": []
   },
   "outputs": [
    {
     "name": "stdout",
     "output_type": "stream",
     "text": [
      "The information gain (IG) of splitting the tree by feature_id 1598 is 0.03250693683486122.\n",
      "The information gain (IG) of splitting the tree by feature_id 5143 is 0.02069038228206265.\n",
      "The information gain (IG) of splitting the tree by feature_id 5324 is 0.018963678165314597.\n"
     ]
    }
   ],
   "source": [
    "# Values for \"feature_id\" are taken from the features such as X[1598], X[5324]\n",
    "feat_1598 = IG(clf, 1598)\n",
    "feat_5143 = IG(clf, 5143)\n",
    "feat_5324 = IG(clf, 5324)"
   ]
  },
  {
   "cell_type": "code",
   "execution_count": 131,
   "id": "70c3b7fc-c1c4-43b2-aeac-434dc8834040",
   "metadata": {},
   "outputs": [
    {
     "name": "stdout",
     "output_type": "stream",
     "text": [
      "[3.25069368e-02 2.06903823e-02 1.89636782e-02 1.79707625e-02\n",
      " 1.10811862e-02 6.68940052e-03 6.08999192e-03 6.06948255e-03\n",
      " 5.75387286e-03 5.52933148e-03 4.36755805e-03 3.73626925e-03\n",
      " 3.61583900e-03 3.48830340e-03 3.42756956e-03 3.23735588e-03\n",
      " 3.16487246e-03 3.09994490e-03 3.00309996e-03 2.97109326e-03\n",
      " 2.85007055e-03 2.36885476e-03 2.10974089e-03 2.08780674e-03\n",
      " 1.53986876e-03 1.51666923e-03 1.50158535e-03 1.49622495e-03\n",
      " 1.49603286e-03 1.48473761e-03 1.47338207e-03 1.44029615e-03\n",
      " 1.20953792e-03 1.10350212e-03 1.04451863e-03 9.46843592e-04\n",
      " 8.83985136e-04 8.65060407e-04 8.64948700e-04 8.58983536e-04\n",
      " 8.48378801e-04 8.45836842e-04 8.45511650e-04 8.44838929e-04\n",
      " 8.27247021e-04 8.26285603e-04 8.25638044e-04 8.23426483e-04\n",
      " 8.16564596e-04 8.09263391e-04 8.07084380e-04 8.01983085e-04\n",
      " 7.98474166e-04 7.97742684e-04 7.52847071e-04 7.49906262e-04\n",
      " 7.49906262e-04 7.31934652e-04 7.31049818e-04 7.29075532e-04\n",
      " 7.23534062e-04 7.11341263e-04 7.11022233e-04 6.99912511e-04\n",
      " 6.92621756e-04 6.68098306e-04 6.56167979e-04 6.56167979e-04\n",
      " 6.42938786e-04 6.31500010e-04 6.03972799e-04 5.95871462e-04\n",
      " 5.95871462e-04 5.68444987e-04 5.35962416e-04 5.34756440e-04\n",
      " 5.21673921e-04 5.06186727e-04 4.82585080e-04 4.78825282e-04\n",
      " 4.63177397e-04 4.37445319e-04 4.37445319e-04 4.11713242e-04\n",
      " 3.93700787e-04 3.82764654e-04 3.81770461e-04 3.73286672e-04\n",
      " 3.68375006e-04 3.49094294e-04 3.25821341e-04 2.18722660e-04\n",
      " 4.45075180e-05]\n"
     ]
    }
   ],
   "source": [
    "### Comparision with native built-in function to compute the same value\n",
    "IG_by_SciKit = clf.tree_.compute_feature_importances(normalize=False)\n",
    "IG_by_SciKit_Non_Negative = IG_by_SciKit[np.where(IG_by_SciKit != 0)]\n",
    "IG_by_SciKit_Non_Negative[::-1].sort()\n",
    "print(IG_by_SciKit_Non_Negative)"
   ]
  },
  {
   "cell_type": "code",
   "execution_count": null,
   "id": "0601e915-9f38-42b3-9ef5-0bc13a391ad5",
   "metadata": {},
   "outputs": [],
   "source": []
  }
 ],
 "metadata": {
  "kernelspec": {
   "display_name": "Python 3 (ipykernel)",
   "language": "python",
   "name": "python3"
  },
  "language_info": {
   "codemirror_mode": {
    "name": "ipython",
    "version": 3
   },
   "file_extension": ".py",
   "mimetype": "text/x-python",
   "name": "python",
   "nbconvert_exporter": "python",
   "pygments_lexer": "ipython3",
   "version": "3.7.7"
  }
 },
 "nbformat": 4,
 "nbformat_minor": 5
}
