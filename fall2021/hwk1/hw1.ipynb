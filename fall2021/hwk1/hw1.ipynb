{
 "cells": [
  {
   "cell_type": "code",
   "execution_count": 155,
   "id": "988ccf9d",
   "metadata": {},
   "outputs": [],
   "source": [
    "import numpy as np\n",
    "#import pandas as pd\n",
    "import math\n",
    "#import csv\n",
    "from sklearn import tree\n",
    "from sklearn.feature_extraction.text import CountVectorizer\n",
    "from sklearn.tree import DecisionTreeClassifier, export_graphviz\n",
    "from sklearn.model_selection import ShuffleSplit, train_test_split\n",
    "from sklearn.metrics import accuracy_score\n",
    "import matplotlib.pyplot as plt"
   ]
  },
  {
   "cell_type": "code",
   "execution_count": 156,
   "id": "5eebe152",
   "metadata": {},
   "outputs": [],
   "source": [
    "# criteria for splits\n",
    "SPL_CRITERIA = ['gini', 'entropy']\n",
    "# data paths\n",
    "CLEAN_REAL_PATH = \"data/clean_real.txt\"\n",
    "CLEAN_FAKE_PATH = \"data/clean_fake.txt\"\n",
    "# class labels\n",
    "REAL_LABEL = '1'\n",
    "FAKE_LABEL = '0'"
   ]
  },
  {
   "cell_type": "code",
   "execution_count": 157,
   "id": "60170246",
   "metadata": {},
   "outputs": [],
   "source": [
    "'''\n",
    "this is question 3a.\n",
    "''' \n",
    "\n",
    "def load_data():\n",
    "    f = open(CLEAN_REAL_PATH, \"r\")\n",
    "    real_headlines = f.read().splitlines() # ?\n",
    "    f.close()\n",
    "\n",
    "    f = open(CLEAN_FAKE_PATH, \"r\")\n",
    "    fake_headlines = f.read().splitlines()\n",
    "    f.close()\n",
    "\n",
    "    count_real = len(real_headlines)\n",
    "    count_fake = len(fake_headlines)\n",
    "    count_total = count_real + count_fake\n",
    "    all_headlines = np.asarray(real_headlines + fake_headlines) # ?\n",
    "    print(all_headlines)\n",
    "\n",
    "    vectorizer = CountVectorizer() \n",
    "    X = vectorizer.fit_transform(all_headlines)\n",
    "\n",
    "    # Adding labels after vectorizer\n",
    "    real_labels = np.full((count_real, 1), REAL_LABEL) # ?\n",
    "    fake_labels = np.full((count_fake, 1), FAKE_LABEL)\n",
    "    all_labels = np.append(real_labels, fake_labels)\n",
    "\n",
    "    \n",
    "    b = all_labels.reshape(1, count_total) # ? \n",
    "    y = b.T\n",
    "\n",
    "    # 70 / 30 split into train + (test+val)\n",
    "    X_train, X_temp, y_train, y_temp = train_test_split(X, y, \n",
    "        test_size=0.3, random_state=1)\n",
    "\n",
    "    # then split 30 into 15 validation, 15 test\n",
    "    X_val, X_test, y_val, y_test = train_test_split(X_temp, y_temp, \n",
    "        test_size=0.5, random_state=1)\n",
    "\n",
    "    return X_train, X_val, X_test, y_train, y_val, y_test, count_total, vectorizer"
   ]
  },
  {
   "cell_type": "code",
   "execution_count": 158,
   "id": "423a1201",
   "metadata": {},
   "outputs": [
    {
     "name": "stdout",
     "output_type": "stream",
     "text": [
      "['donald trump do you remember the year since he was elected'\n",
      " 'trump defends son over emails as moscow hits back'\n",
      " 'donald trump strategist says media wont easily give back america' ...\n",
      " 'breaking donald trump makes major clinton indictment announcement details'\n",
      " 'no hate crimes have not intensified since trump election'\n",
      " 'who to blame for president trump']\n"
     ]
    }
   ],
   "source": [
    "X_train, X_val, X_test, y_train, y_val, y_test, count_total, vectorizer = load_data()"
   ]
  },
  {
   "cell_type": "code",
   "execution_count": 9,
   "id": "75a253d5",
   "metadata": {},
   "outputs": [
    {
     "data": {
      "text/plain": [
       "((2286, 5799), (490, 5799))"
      ]
     },
     "execution_count": 9,
     "metadata": {},
     "output_type": "execute_result"
    }
   ],
   "source": [
    "X_train.shape, X_test.shape"
   ]
  },
  {
   "cell_type": "code",
   "execution_count": 10,
   "id": "610995d3",
   "metadata": {},
   "outputs": [
    {
     "data": {
      "text/plain": [
       "((2286, 1), (490, 1))"
      ]
     },
     "execution_count": 10,
     "metadata": {},
     "output_type": "execute_result"
    }
   ],
   "source": [
    "y_train.shape, y_test.shape"
   ]
  },
  {
   "cell_type": "code",
   "execution_count": 11,
   "id": "4b42b538",
   "metadata": {},
   "outputs": [
    {
     "data": {
      "text/plain": [
       "array([['0'],\n",
       "       ['1'],\n",
       "       ['1'],\n",
       "       ['1'],\n",
       "       ['1'],\n",
       "       ['1'],\n",
       "       ['1'],\n",
       "       ['1'],\n",
       "       ['1'],\n",
       "       ['1']], dtype='<U1')"
      ]
     },
     "execution_count": 11,
     "metadata": {},
     "output_type": "execute_result"
    }
   ],
   "source": [
    "y_train[:10]"
   ]
  },
  {
   "cell_type": "code",
   "execution_count": 177,
   "id": "36322eb4",
   "metadata": {},
   "outputs": [],
   "source": [
    "'''\n",
    "this is question 3 b\n",
    "'''\n",
    "\n",
    "def fit_tree(params, X_train, y_train, X_val, y_val):\n",
    "    \"\"\"to fit the decision tree with a specific criteria and depth\"\"\"\n",
    "    \n",
    "    clf = DecisionTreeClassifier(\n",
    "            max_depth=params[\"max_depth\"], \n",
    "            criterion=params[\"criteria\"],\n",
    "            #splitter=\"random\", # ?\n",
    "    )\n",
    "    # train \n",
    "    clf.fit(X=X_train, y=y_train) \n",
    "\n",
    "    # validate \n",
    "    y_pred = clf.predict(X=X_val)\n",
    "    correct = sum(i == j for i, j in zip(y_pred, y_val)) # ?\n",
    "    score = correct / y_val.shape[0]\n",
    "    print(f\"max_depth: {params['max_depth']} | criteria: {params['criteria']} | score: {score}\")\n",
    "\n",
    "    return score, clf\n",
    "\n",
    "\n",
    "\n",
    "def select_tree_model(X_train, y_train, X_val, y_val, max_depth):\n",
    "    best_score = -1\n",
    "    best_tree = None\n",
    "    \n",
    "    # make different params \n",
    "    params = []\n",
    "    for i in range(1, max_depth+1):\n",
    "        for criteria in SPL_CRITERIA:\n",
    "            params.append({\n",
    "                \"max_depth\": i,\n",
    "                \"criteria\": criteria \n",
    "            })\n",
    "    \n",
    "    # fit and validate on each param\n",
    "    for param in params:\n",
    "        score, clf = fit_tree(param, X_train, y_train, X_val, y_val)\n",
    "        if (score > best_score):\n",
    "            best_score = score\n",
    "            best_tree = clf\n",
    "\n",
    "    print(f\"Best hyperparameters are: max_depth = {best_tree.max_depth}, criteria = {best_tree.criterion}, score = {best_score}\")\n",
    "\n",
    "    return best_tree"
   ]
  },
  {
   "cell_type": "code",
   "execution_count": 178,
   "id": "fbe30f09",
   "metadata": {},
   "outputs": [
    {
     "name": "stdout",
     "output_type": "stream",
     "text": [
      "max_depth: 1 | criteria: gini | score: [0.58979592]\n",
      "max_depth: 1 | criteria: entropy | score: [0.58979592]\n",
      "max_depth: 2 | criteria: gini | score: [0.6877551]\n",
      "max_depth: 2 | criteria: entropy | score: [0.63061224]\n",
      "max_depth: 3 | criteria: gini | score: [0.71020408]\n",
      "max_depth: 3 | criteria: entropy | score: [0.63265306]\n",
      "max_depth: 4 | criteria: gini | score: [0.71428571]\n",
      "max_depth: 4 | criteria: entropy | score: [0.7122449]\n",
      "max_depth: 5 | criteria: gini | score: [0.7122449]\n",
      "max_depth: 5 | criteria: entropy | score: [0.7122449]\n",
      "max_depth: 6 | criteria: gini | score: [0.71632653]\n",
      "max_depth: 6 | criteria: entropy | score: [0.71632653]\n",
      "max_depth: 7 | criteria: gini | score: [0.71428571]\n",
      "max_depth: 7 | criteria: entropy | score: [0.71836735]\n",
      "max_depth: 8 | criteria: gini | score: [0.71836735]\n",
      "max_depth: 8 | criteria: entropy | score: [0.72040816]\n",
      "max_depth: 9 | criteria: gini | score: [0.73061224]\n",
      "max_depth: 9 | criteria: entropy | score: [0.72857143]\n",
      "max_depth: 10 | criteria: gini | score: [0.73673469]\n",
      "max_depth: 10 | criteria: entropy | score: [0.72857143]\n",
      "max_depth: 11 | criteria: gini | score: [0.73877551]\n",
      "max_depth: 11 | criteria: entropy | score: [0.74285714]\n",
      "max_depth: 12 | criteria: gini | score: [0.75306122]\n",
      "max_depth: 12 | criteria: entropy | score: [0.74081633]\n",
      "max_depth: 13 | criteria: gini | score: [0.74897959]\n",
      "max_depth: 13 | criteria: entropy | score: [0.74081633]\n",
      "max_depth: 14 | criteria: gini | score: [0.74897959]\n",
      "max_depth: 14 | criteria: entropy | score: [0.74285714]\n",
      "max_depth: 15 | criteria: gini | score: [0.73877551]\n",
      "max_depth: 15 | criteria: entropy | score: [0.74081633]\n",
      "max_depth: 16 | criteria: gini | score: [0.73469388]\n",
      "max_depth: 16 | criteria: entropy | score: [0.74693878]\n",
      "max_depth: 17 | criteria: gini | score: [0.74693878]\n",
      "max_depth: 17 | criteria: entropy | score: [0.74693878]\n",
      "max_depth: 18 | criteria: gini | score: [0.74489796]\n",
      "max_depth: 18 | criteria: entropy | score: [0.75102041]\n",
      "max_depth: 19 | criteria: gini | score: [0.74693878]\n",
      "max_depth: 19 | criteria: entropy | score: [0.74081633]\n",
      "max_depth: 20 | criteria: gini | score: [0.74693878]\n",
      "max_depth: 20 | criteria: entropy | score: [0.74897959]\n",
      "Best hyperparameters are: max_depth = 12, criteria = gini, score = [0.75306122]\n"
     ]
    }
   ],
   "source": [
    "clf = select_tree_model(X_train, y_train, X_val, y_val, 20)"
   ]
  },
  {
   "cell_type": "code",
   "execution_count": 179,
   "id": "4c50b16c",
   "metadata": {},
   "outputs": [],
   "source": [
    "'''\n",
    "question 3 c\n",
    "'''\n",
    "\n",
    "TEST_DATA_X = 'data/data_test_X.csv'\n",
    "TEST_DATA_y = 'data/data_test_y.csv'\n",
    "\n",
    "BEST_PARAMS = {\n",
    "    'max_depth' : 12,\n",
    "    'criteria' : 'gini',\n",
    "}\n",
    "\n",
    "def test_model():    \n",
    "    y_out = clf.predict(X_test) # ?\n",
    "    \n",
    "    return y_out\n",
    "    "
   ]
  },
  {
   "cell_type": "code",
   "execution_count": 180,
   "id": "b33ecd45",
   "metadata": {
    "scrolled": true
   },
   "outputs": [],
   "source": [
    "y_out = test_model()"
   ]
  },
  {
   "cell_type": "code",
   "execution_count": 181,
   "id": "749c2527",
   "metadata": {},
   "outputs": [
    {
     "data": {
      "text/plain": [
       "0.7714285714285715"
      ]
     },
     "execution_count": 181,
     "metadata": {},
     "output_type": "execute_result"
    }
   ],
   "source": [
    "# accuracy \n",
    "accuracy_score(y_test, y_out)"
   ]
  },
  {
   "cell_type": "code",
   "execution_count": 184,
   "id": "9326e156",
   "metadata": {},
   "outputs": [],
   "source": [
    "# plotting the first 2 layers\n",
    "\n",
    "def visualize(clf):\n",
    "    plt.figure(figsize=(12,12))  # set plot size (denoted in inches)\n",
    "    tree.plot_tree(clf, max_depth=2, filled = True, fontsize=10, feature_names=vectorizer.get_feature_names_out())\n",
    "    plt.show()\n",
    "    plt.savefig('tree_depth_2', dpi=100)"
   ]
  },
  {
   "cell_type": "code",
   "execution_count": 185,
   "id": "76799c7c",
   "metadata": {},
   "outputs": [
    {
     "data": {
      "image/png": "[encoded data removed]",
      "text/plain": [
       "<Figure size 864x864 with 1 Axes>"
      ]
     },
     "metadata": {
      "needs_background": "light"
     },
     "output_type": "display_data"
    },
    {
     "data": {
      "text/plain": [
       "<Figure size 432x288 with 0 Axes>"
      ]
     },
     "metadata": {},
     "output_type": "display_data"
    }
   ],
   "source": [
    "visualize(clf)"
   ]
  },
  {
   "cell_type": "code",
   "execution_count": 151,
   "id": "ac110539-c85c-4056-9776-67ce1ff88ac0",
   "metadata": {},
   "outputs": [
    {
     "ename": "IndentationError",
     "evalue": "unexpected indent (2727045123.py, line 4)",
     "output_type": "error",
     "traceback": [
      "\u001b[0;36m  File \u001b[0;32m\"/var/folders/nm/cm892dm12lxf11cgjmybh6b00000gn/T/ipykernel_6373/2727045123.py\"\u001b[0;36m, line \u001b[0;32m4\u001b[0m\n\u001b[0;31m    IG(Y, x) = Entropy before the split - Sum of entropies after the split\u001b[0m\n\u001b[0m    ^\u001b[0m\n\u001b[0;31mIndentationError\u001b[0m\u001b[0;31m:\u001b[0m unexpected indent\n"
     ]
    }
   ],
   "source": [
    "\"\"\"\n",
    "def findIG(x):\n",
    "    \"\"\"\n",
    "    IG(Y, x) = Entropy before the split - Sum of entropies after the split\n",
    "    \"\"\"\n",
    "    ndX_train = X_train.toarray()\n",
    "    index = findIndexOfFeature(x)\n",
    "    print(index)\n",
    "    col = ndX_train.getcol(index)\n",
    "    #print(col)\n",
    "    #counts = np.bincount(col)\n",
    "    #print(counts)\n",
    "    \n",
    "#print(type(X_train))\n",
    "ndX = X_train.toarray()\n",
    "type(ndX)\n",
    "#newArray = np.concatenate([ndX,y_train])\n",
    "\n",
    "#print(X_train[:,0].shape)\n",
    "#print(X_train.getcol(1598))\n",
    "#print(findIG(\"donald\"))\n",
    "\n",
    "def calc_entropy(column):\n",
    "    \"\"\"\n",
    "    Calculate entropy given a pandas series, list, or numpy array.\n",
    "    \"\"\"\n",
    "    # Compute the counts of each unique value in the column\n",
    "    counts = np.bincount(column)\n",
    "    # Divide by the total column length to get a probability\n",
    "    probabilities = counts / len(column)\n",
    "    \n",
    "    # Initialize the entropy to 0\n",
    "    entropy = 0\n",
    "    # Loop through the probabilities, and add each one to the total entropy\n",
    "    for prob in probabilities:\n",
    "        if prob > 0:\n",
    "            # use log from math and set base to 2\n",
    "            entropy += prob * math.log(prob, 2)\n",
    "    \n",
    "    return -entropy\n",
    "\n",
    "def calc_information_gain(data, split_name, target_name):\n",
    "    \"\"\"\n",
    "    Calculate information gain given a data set, column to split on, and target\n",
    "    \"\"\"\n",
    "    # Calculate the original entropy\n",
    "    original_entropy = calc_entropy(data[target_name])\n",
    "    \n",
    "    #Find the unique values in the column\n",
    "    values = data[split_name].unique()\n",
    "    \n",
    "    \n",
    "    # Make two subsets of the data, based on the unique values\n",
    "    left_split = data[data[split_name] == values[0]]\n",
    "    right_split = data[data[split_name] == values[1]]\n",
    "    \n",
    "    # Loop through the splits and calculate the subset entropies\n",
    "    to_subtract = 0\n",
    "    for subset in [left_split, right_split]:\n",
    "        prob = (subset.shape[0] / data.shape[0]) \n",
    "        to_subtract += prob * calc_entropy(subset[target_name])\n",
    "    \n",
    "    # Return information gain\n",
    "    return original_entropy - to_subtract\n",
    "\n",
    "import pandas as pd\n",
    "#print(y_train[:,0])\n",
    "#print(type(X_train))\n",
    "ndX = X_train.toarray()\n",
    "dfX = pd.DataFrame(data=ndX)\n",
    "npY = np.array(y_train,dtype='int64')\n",
    "\n",
    "\n",
    "\n",
    "\n",
    "donald = 1598\n",
    "clNp = ndX[:,cl]\n",
    "calc_entropy(npY[:,0])\n",
    "\n",
    "dfX[:,1598].unique()\n",
    "\"\"\""
   ]
  },
  {
   "cell_type": "code",
   "execution_count": 187,
   "id": "815028c1-e77e-4324-9bdc-c4111ead93b2",
   "metadata": {},
   "outputs": [
    {
     "name": "stdout",
     "output_type": "stream",
     "text": [
      "The information gain (IG) of splitting the tree by ** donald ** is 0.03250693683486122.\n"
     ]
    }
   ],
   "source": [
    "def findIndexOfFeature(feature):\n",
    "    featureNames = vectorizer.get_feature_names()\n",
    "    return featureNames.index(feature)\n",
    "\n",
    "def IG(clf, featureToken):\n",
    "    \"\"\"\n",
    "    IG(Classifier clf, int feature_id)\n",
    "    ======\n",
    "    Returns the information gain of a split in the feature_id given,\n",
    "    the higher the information gain, the better the split.\n",
    "        \n",
    "    Sources:\n",
    "    Tree structure: https://scikit-learn.org/stable/auto_examples/tree/plot_unveil_tree_structure.html\n",
    "    Mathematical formulation of Entropy used in SciKit: https://scikit-learn.org/stable/modules/tree.html\n",
    "    Entropy or impuirity as per SciKit: https://scikit-learn.org/stable/modules/generated/sklearn.tree.DecisionTreeClassifier.html#sklearn.tree.DecisionTreeClassifier\n",
    "    \"\"\"\n",
    "    # Search for feature_id\n",
    "    feature_id = findIndexOfFeature(featureToken)\n",
    "    \n",
    "    tree_features = clf.tree_.feature\n",
    "    num_features = clf.tree_.n_features\n",
    "    node_samples = clf.tree_.weighted_n_node_samples\n",
    "    feature_importance = np.zeros((num_features,)) # Feature importance as an array\n",
    "    left_branch = clf.tree_.children_left # Index of features for left branch\n",
    "    right_branch = clf.tree_.children_right # Index of features for right branch\n",
    "\n",
    "    # Impurity is interpreted as Entropy\n",
    "    entropy = clf.tree_.impurity    \n",
    "\n",
    "    for nodeIndex,node in enumerate(clf.tree_.feature):\n",
    "        if node >= 0:\n",
    "            # Accumulate the feature importance over the nodes where it's used\n",
    "            entropy_before_split = entropy[nodeIndex]*node_samples[nodeIndex]\n",
    "            entropy_left_branch = entropy[left_branch[nodeIndex]]*node_samples[left_branch[nodeIndex]]\n",
    "            entropy_right_branch = entropy[right_branch[nodeIndex]]*node_samples[right_branch[nodeIndex]]\n",
    "            \n",
    "            feature_importance[node] += entropy_before_split - entropy_left_branch - entropy_right_branch\n",
    "\n",
    "    # Total number of samples at the root node\n",
    "    feature_importance = feature_importance / node_samples[0]\n",
    "\n",
    "    information_gain = -1\n",
    "    \n",
    "    # Adding feature_id column\n",
    "    features = tree_features[tree_features>=0] # Negative feature is a leaf node\n",
    "    features_list_by_id = list(zip(features,feature_importance[features]))\n",
    "    for feat in features_list_by_id:\n",
    "        if feat[0] == feature_id:\n",
    "            information_gain = feat[1]\n",
    "    \n",
    "    print('The information gain (IG) of splitting the tree by ** {0} ** is {1}.'.format(featureToken, information_gain))\n",
    "\n",
    "    return information_gain\n",
    "\n",
    "featureIG = IG(clf, \"donald\")"
   ]
  },
  {
   "cell_type": "code",
   "execution_count": 188,
   "id": "c5878ffa-1ea2-4cd3-bee3-b41b4a8677fc",
   "metadata": {},
   "outputs": [
    {
     "name": "stdout",
     "output_type": "stream",
     "text": [
      "The information gain (IG) of splitting the tree by ** donald ** is 0.03250693683486122.\n"
     ]
    }
   ],
   "source": [
    "IG(clf, \"donald\")"
   ]
  },
  {
   "cell_type": "code",
   "execution_count": 189,
   "id": "9423116f-1846-402b-8f0e-c7bbefb27e06",
   "metadata": {},
   "outputs": [
    {
     "name": "stdout",
     "output_type": "stream",
     "text": [
      "The information gain (IG) of splitting the tree by ** hillary ** is 0.019660000702676154.\n"
     ]
    },
    {
     "data": {
      "text/plain": [
       "0.019660000702676154"
      ]
     },
     "execution_count": 189,
     "metadata": {},
     "output_type": "execute_result"
    }
   ],
   "source": [
    "IG(clf, \"hillary\")"
   ]
  },
  {
   "cell_type": "code",
   "execution_count": 191,
   "id": "9e3686d3-2ca2-406b-b377-b669d36eec95",
   "metadata": {},
   "outputs": [
    {
     "name": "stdout",
     "output_type": "stream",
     "text": [
      "The information gain (IG) of splitting the tree by ** trump ** is 0.003574731840877145.\n"
     ]
    },
    {
     "data": {
      "text/plain": [
       "0.003574731840877145"
      ]
     },
     "execution_count": 191,
     "metadata": {},
     "output_type": "execute_result"
    }
   ],
   "source": [
    "IG(clf, \"trump\")"
   ]
  },
  {
   "cell_type": "code",
   "execution_count": 83,
   "id": "bf98a662-784b-49a6-b404-6d0cb4c2ffc5",
   "metadata": {
    "tags": []
   },
   "outputs": [
    {
     "name": "stdout",
     "output_type": "stream",
     "text": [
      "The information gain (IG) of splitting the tree by ** donald ** is 0.03250693683486122.\n"
     ]
    }
   ],
   "source": [
    "#feat_5143 = IG(clf, \"donald\")"
   ]
  },
  {
   "cell_type": "code",
   "execution_count": 84,
   "id": "70c3b7fc-c1c4-43b2-aeac-434dc8834040",
   "metadata": {},
   "outputs": [
    {
     "name": "stdout",
     "output_type": "stream",
     "text": [
      "[3.25069368e-02 2.53916885e-02 1.81815969e-02 1.80487109e-02\n",
      " 9.90139491e-03 6.61444717e-03 5.81739522e-03 5.38487628e-03\n",
      " 4.90162659e-03 4.73963982e-03 4.60051475e-03 4.47182906e-03\n",
      " 4.40334529e-03 4.25923482e-03 3.63158608e-03 3.59768809e-03\n",
      " 3.23319020e-03 3.22420753e-03 3.00454537e-03 2.96424834e-03\n",
      " 2.79308406e-03 2.69996845e-03 2.66173880e-03 2.63675197e-03\n",
      " 2.52189786e-03 2.44501098e-03 2.43606643e-03 2.33929811e-03\n",
      " 2.30703819e-03 2.15239292e-03 2.14155582e-03 2.12814550e-03\n",
      " 2.11197005e-03 1.56687167e-03 1.53986876e-03 1.51666923e-03\n",
      " 1.50784611e-03 1.50772820e-03 1.50158535e-03 1.48473761e-03\n",
      " 1.41050745e-03 1.38513254e-03 1.37488757e-03 1.27098083e-03\n",
      " 1.25465798e-03 1.11988947e-03 1.08991562e-03 1.06002572e-03\n",
      " 1.03944269e-03 1.01945341e-03 1.00003525e-03 9.89459651e-04\n",
      " 9.81166662e-04 9.70353674e-04 9.62827099e-04 9.62041505e-04\n",
      " 9.56381634e-04 9.44996967e-04 9.26354794e-04 8.76412188e-04\n",
      " 8.69527849e-04 8.65060407e-04 8.64948700e-04 8.51244946e-04\n",
      " 8.45836842e-04 8.45511650e-04 8.45326279e-04 8.44838929e-04\n",
      " 8.43644544e-04 8.38436862e-04 8.36851915e-04 8.28843763e-04\n",
      " 8.26285603e-04 8.25638044e-04 8.23426483e-04 8.12398450e-04\n",
      " 8.09834668e-04 8.09263391e-04 8.07084380e-04 7.97742684e-04\n",
      " 7.87401575e-04 7.85462162e-04 7.71361913e-04 7.70330538e-04\n",
      " 7.67114256e-04 7.65086550e-04 7.36750012e-04 7.33648131e-04\n",
      " 7.33318034e-04 7.33098018e-04 7.30340377e-04 7.29075532e-04\n",
      " 7.26832223e-04 7.23534062e-04 7.12026381e-04 6.99912511e-04\n",
      " 6.99912511e-04 6.99524962e-04 6.91376993e-04 6.85801372e-04\n",
      " 6.75988633e-04 6.74915636e-04 6.67728373e-04 6.65377354e-04\n",
      " 6.59283686e-04 6.56167979e-04 6.56167979e-04 6.56167979e-04\n",
      " 6.56167979e-04 6.56167979e-04 6.42938786e-04 6.38548332e-04\n",
      " 6.30129567e-04 6.18276957e-04 6.12191995e-04 6.06901859e-04\n",
      " 6.03972799e-04 6.02210486e-04 6.02008082e-04 5.90551181e-04\n",
      " 5.83260426e-04 5.83260426e-04 5.83260426e-04 5.71681234e-04\n",
      " 5.47280075e-04 5.35962416e-04 5.10794737e-04 5.06186727e-04\n",
      " 4.99690503e-04 4.78825282e-04 4.66608341e-04 4.58049628e-04\n",
      " 4.37445319e-04 4.37445319e-04 3.93700787e-04 3.93700787e-04\n",
      " 2.18722660e-04 4.45075180e-05]\n"
     ]
    }
   ],
   "source": [
    "### Comparision with native built-in function to compute the same value\n",
    "IG_by_SciKit = clf.tree_.compute_feature_importances(normalize=False)\n",
    "IG_by_SciKit_Non_Negative = IG_by_SciKit[np.where(IG_by_SciKit != 0)]\n",
    "IG_by_SciKit_Non_Negative[::-1].sort()\n",
    "print(IG_by_SciKit_Non_Negative)"
   ]
  },
  {
   "cell_type": "code",
   "execution_count": 202,
   "id": "14639a19-e0e6-46c5-b17f-7b3f2a7e31db",
   "metadata": {},
   "outputs": [],
   "source": [
    "from sklearn.neighbors import KNeighborsClassifier\n",
    "\n",
    "def test_knn_model(k_value, X_train, y_train, X_val, y_val, X_test, y_test):\n",
    "    '''\n",
    "    this is a helper function for question 3 e to fit knn model on a particular k value\n",
    "    '''\n",
    "\n",
    "    knn_clf = KNeighborsClassifier(n_neighbors=k_value)\n",
    "    knn_clf.fit(X_train, y_train.ravel())\n",
    "    \n",
    "    train_score = knn_clf.score(X_train, y_train)\n",
    "    val_score = knn_clf.score(X_val, y_val)\n",
    "    # calculate test score only for visualisation later\n",
    "    test_score = knn_clf.score(X_test, y_test)\n",
    "        \n",
    "    return knn_clf, val_score, train_score, test_score\n",
    "\n",
    "\n",
    "\n",
    "\"\"\"\n",
    "Function: select_knn_model(X_train, y_train, X_val, y_val, X_test, y_test)\n",
    "Usage: select_knn_model(X_train, y_train, X_val, y_val, X_test, y_test)\n",
    "-----\n",
    "Returns the best KNN model after evauating the dataset using a range\n",
    "of values between for K. It finally plots the train, validation and test errors\n",
    "vs the range of the hyperparameter K.\n",
    "\"\"\"\n",
    "def select_knn_model(X_train, y_train, X_val, y_val, X_test, y_test):\n",
    "    '''\n",
    "    Question ---> 3e\n",
    "    '''\n",
    "\n",
    "    best_score = -1\n",
    "    test_score_to_report = -1\n",
    "    best_k = -1\n",
    "    best_knn_clf = -1\n",
    "\n",
    "    train_errors = []\n",
    "    val_errors = []\n",
    "    test_errors = []\n",
    "\n",
    "    for k in range(2, 21): # all k values between 1 and 20\n",
    "        knn_clf, val_score, train_score, test_score = test_knn_model(k, X_train, y_train, X_val, y_val, X_test, y_test)\n",
    "        val_errors.append(1-val_score)\n",
    "        train_errors.append(1-train_score)\n",
    "        test_errors.append(1-test_score)\n",
    "        \n",
    "        # check on validation accuracy only \n",
    "        if val_score > best_score:\n",
    "            best_score = val_score\n",
    "            test_score_to_report = test_score\n",
    "            best_k = k\n",
    "            best_knn_clf = knn_clf\n",
    "                \n",
    "\n",
    "    print(f\"Best val score: {best_score}, and test score: {test_score_to_report} for k = {best_k}\")\n",
    "\n",
    "    # visualisation like slide 43 in lecture slides 1\n",
    "\n",
    "    plt.plot(train_errors, label='Train')\n",
    "    plt.plot(val_errors, label = \"Validation\")\n",
    "    # plt.plot(test_errors, label=\"Test\")\n",
    "    plt.ylabel(\"Error\")\n",
    "    plt.xlabel(\"K Values\")\n",
    "    plt.legend()\n",
    "    plt.savefig('knn plot.png')\n",
    "    plt.show()"
   ]
  },
  {
   "cell_type": "code",
   "execution_count": 203,
   "id": "d1d8c82a-321c-47c4-b920-ea184be38fe3",
   "metadata": {},
   "outputs": [
    {
     "name": "stdout",
     "output_type": "stream",
     "text": [
      "Best val score: 0.6918367346938775, and test score: 0.7040816326530612 for k = 20\n"
     ]
    },
    {
     "data": {
      "image/png": "[encoded data removed]",
      "text/plain": [
       "<Figure size 432x288 with 1 Axes>"
      ]
     },
     "metadata": {
      "needs_background": "light"
     },
     "output_type": "display_data"
    }
   ],
   "source": [
    "select_knn_model(X_train, y_train, X_val, y_val, X_test, y_test)"
   ]
  },
  {
   "cell_type": "code",
   "execution_count": null,
   "id": "2758b4b5-9c85-4811-a1a3-517c5bf9ff06",
   "metadata": {},
   "outputs": [],
   "source": []
  }
 ],
 "metadata": {
  "kernelspec": {
   "display_name": "Python 3 (ipykernel)",
   "language": "python",
   "name": "python3"
  },
  "language_info": {
   "codemirror_mode": {
    "name": "ipython",
    "version": 3
   },
   "file_extension": ".py",
   "mimetype": "text/x-python",
   "name": "python",
   "nbconvert_exporter": "python",
   "pygments_lexer": "ipython3",
   "version": "3.7.10"
  }
 },
 "nbformat": 4,
 "nbformat_minor": 5
}
