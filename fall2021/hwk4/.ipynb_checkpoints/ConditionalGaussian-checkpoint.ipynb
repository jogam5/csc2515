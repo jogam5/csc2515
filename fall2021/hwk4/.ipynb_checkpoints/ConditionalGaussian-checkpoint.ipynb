{
 "cells": [
  {
   "cell_type": "markdown",
   "id": "b86680e9-bb74-45c0-b035-a1a3f37093a5",
   "metadata": {},
   "source": [
    "2.1 Gaussian Classifier"
   ]
  },
  {
   "cell_type": "code",
   "execution_count": 16,
   "id": "2e2edd08-149e-4ff9-9565-b1593554fecc",
   "metadata": {},
   "outputs": [
    {
     "name": "stdout",
     "output_type": "stream",
     "text": [
      "(700, 64),<class 'numpy.ndarray'>\n",
      "(700, 64),<class 'numpy.ndarray'>\n",
      "(700, 64),<class 'numpy.ndarray'>\n",
      "(700, 64),<class 'numpy.ndarray'>\n",
      "(700, 64),<class 'numpy.ndarray'>\n",
      "(700, 64),<class 'numpy.ndarray'>\n",
      "(700, 64),<class 'numpy.ndarray'>\n",
      "(700, 64),<class 'numpy.ndarray'>\n",
      "(700, 64),<class 'numpy.ndarray'>\n",
      "(700, 64),<class 'numpy.ndarray'>\n"
     ]
    },
    {
     "data": {
      "image/png": "[encoded data removed]",
      "text/plain": [
       "<Figure size 432x288 with 1 Axes>"
      ]
     },
     "metadata": {
      "needs_background": "light"
     },
     "output_type": "display_data"
    }
   ],
   "source": [
    "'''\n",
    "Question 2.0 Skeleton Code\n",
    "\n",
    "Here you should load the data and plot\n",
    "the means for each of the digit classes.\n",
    "'''\n",
    "\n",
    "import data\n",
    "import numpy as np\n",
    "# Import pyplot - plt.imshow is useful!\n",
    "import matplotlib.pyplot as plt\n",
    "\n",
    "def plot_means(train_data, train_labels):\n",
    "    means = []\n",
    "    for i in range(0, 10):\n",
    "        i_digits = data.get_digits_by_label(train_data, train_labels, i)\n",
    "        # Compute mean of class i\n",
    "        # [0, 1, 0, 0, 1 ... ]in total 700 rows each with 64 columns\n",
    "        print(str(i_digits.shape)+\",\"+str(type(i_digits)))\n",
    "        i_digits = np.mean(i_digits, axis=0)\n",
    "        means.append( i_digits.reshape((8,8)) )\n",
    "\n",
    "    # Plot all means on same axis\n",
    "    all_concat = np.concatenate(means, 1)\n",
    "    plt.imshow(all_concat, cmap='gray')\n",
    "    plt.show()\n",
    "\n",
    "if __name__ == '__main__':\n",
    "    train_data, train_labels, _, _ = data.load_all_data_from_zip('a4digits.zip', 'data')\n",
    "    plot_means(train_data, train_labels)"
   ]
  },
  {
   "cell_type": "code",
   "execution_count": null,
   "id": "59d10f76-3480-43b8-8b94-7000d02b78d3",
   "metadata": {},
   "outputs": [],
   "source": []
  }
 ],
 "metadata": {
  "kernelspec": {
   "display_name": "Python 3 (ipykernel)",
   "language": "python",
   "name": "python3"
  },
  "language_info": {
   "codemirror_mode": {
    "name": "ipython",
    "version": 3
   },
   "file_extension": ".py",
   "mimetype": "text/x-python",
   "name": "python",
   "nbconvert_exporter": "python",
   "pygments_lexer": "ipython3",
   "version": "3.10.0"
  }
 },
 "nbformat": 4,
 "nbformat_minor": 5
}
