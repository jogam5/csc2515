{
 "cells": [
  {
   "cell_type": "markdown",
   "id": "b86680e9-bb74-45c0-b035-a1a3f37093a5",
   "metadata": {},
   "source": [
    "2.1 Gaussian Classifier"
   ]
  },
  {
   "cell_type": "code",
   "execution_count": 112,
   "id": "2e2edd08-149e-4ff9-9565-b1593554fecc",
   "metadata": {},
   "outputs": [
    {
     "data": {
      "image/png": "[encoded data removed]",
      "text/plain": [
       "<Figure size 432x288 with 1 Axes>"
      ]
     },
     "metadata": {
      "needs_background": "light"
     },
     "output_type": "display_data"
    }
   ],
   "source": [
    "'''\n",
    "Question 2.0 Skeleton Code\n",
    "\n",
    "Here you should load the data and plot\n",
    "the means for each of the digit classes.\n",
    "'''\n",
    "\n",
    "import data\n",
    "import numpy as np\n",
    "# Import pyplot - plt.imshow is useful!\n",
    "import matplotlib.pyplot as plt\n",
    "\n",
    "def plot_means(train_data, train_labels):\n",
    "    means = []\n",
    "    for i in range(0, 10):\n",
    "        i_digits = data.get_digits_by_label(train_data, train_labels, i)\n",
    "        # Compute mean of class i\n",
    "        # [0, 1, 0, 0, 1 ... ]in total 700 rows each with 64 columns\n",
    "        #print(str(i_digits.shape)+\",\"+str(type(i_digits)))\n",
    "        i_digits = np.mean(i_digits, axis=0)\n",
    "        #print(\"i_digits:\", i_digits.shape)\n",
    "        means.append( i_digits.reshape((8,8)) )\n",
    "\n",
    "    # Plot all means on same axis\n",
    "    #print(\"means: \",means[0].shape)\n",
    "    all_concat = np.concatenate(means, 1)\n",
    "    plt.imshow(all_concat, cmap='gray')\n",
    "    plt.show()\n",
    "\n",
    "if __name__ == '__main__':\n",
    "    train_data, train_labels, _, _ = data.load_all_data_from_zip('a4digits.zip', 'data')\n",
    "    plot_means(train_data, train_labels)"
   ]
  },
  {
   "cell_type": "code",
   "execution_count": 117,
   "id": "59d10f76-3480-43b8-8b94-7000d02b78d3",
   "metadata": {},
   "outputs": [
    {
     "name": "stdout",
     "output_type": "stream",
     "text": [
      "2.1.1 Plot the log-diagonal of each covariance matrix side by side\n"
     ]
    },
    {
     "data": {
      "image/png": "[encoded data removed]",
      "text/plain": [
       "<Figure size 432x288 with 1 Axes>"
      ]
     },
     "metadata": {
      "needs_background": "light"
     },
     "output_type": "display_data"
    }
   ],
   "source": [
    "'''\n",
    "Question 2.1 Skeleton Code\n",
    "\n",
    "Here you should implement and evaluate the Conditional Gaussian classifier.\n",
    "'''\n",
    "\n",
    "import data\n",
    "import numpy as np\n",
    "# Import pyplot - plt.imshow is useful!\n",
    "import matplotlib.pyplot as plt\n",
    "np.random.seed(0)\n",
    "\n",
    "def compute_mean_mles(train_data, train_labels):\n",
    "    '''\n",
    "    Compute the mean estimate for each digit class\n",
    "\n",
    "    Should return a numpy array of size (10,64)\n",
    "    The ith row will correspond to the mean estimate for digit class i\n",
    "    '''\n",
    "    # Compute means\n",
    "    tmp = []\n",
    "    for i in range(10):\n",
    "        i_digits = data.get_digits_by_label(train_data, train_labels, i)\n",
    "        tmp.append( np.mean(i_digits, axis=0) )\n",
    "    # Create array from list \"tmp\"\n",
    "    means = np.array(tmp) # (10,64)\n",
    "    return means\n",
    "\n",
    "def compute_sigma_mles(train_data, train_labels):\n",
    "    '''\n",
    "    Compute the covariance estimate for each digit class\n",
    "\n",
    "    Should return a three dimensional numpy array of shape (10, 64, 64)\n",
    "    consisting of a covariance matrix for each digit class \n",
    "    '''\n",
    "    covariances = np.zeros((10, 64, 64))\n",
    "    # Compute covariances\n",
    "    means = compute_mean_mles(train_data, train_labels).transpose() # (10,64) -> (64,10)\n",
    "    for i in range(10):\n",
    "        i_digits = data.get_digits_by_label(train_data, train_labels, i) # (700,64)\n",
    "        ### First try\n",
    "        X = i_digits.transpose()\n",
    "        mu = means[:,i]\n",
    "        mu = mu.reshape(mu.shape[0],1)\n",
    "        N = X.shape[1]\n",
    "        covariances[i,:,:] = np.matmul( (X - mu),(X - mu).transpose() )/ N\n",
    "        \n",
    "        ### Third try\n",
    "        # Sanity check\n",
    "        #print(\"built-in numpy:\")\n",
    "        #z = np.cov(i_digits.transpose())\n",
    "        #print(z.shape)\n",
    "        #print(z[0,:])\n",
    "    #print(covariances.shape)\n",
    "    #print(covariances[0,:,:])\n",
    "    return covariances\n",
    "\n",
    "def plot_cov_diagonal(covariances):\n",
    "    # Plot the log-diagonal of each covariance matrix side by side\n",
    "    print(\"2.1.1 Plot the log-diagonal of each covariance matrix side by side\")\n",
    "    diag = []\n",
    "    for i in range(10):\n",
    "        cov_diag = np.diag(covariances[i])\n",
    "        log_diag = np.log(cov_diag)\n",
    "        diag.append( log_diag.reshape((8,8)) )\n",
    "                \n",
    "    all_concat = np.concatenate(diag, 1)\n",
    "    plt.imshow(all_concat, cmap='gray')\n",
    "    plt.show()\n",
    "\n",
    "def generative_likelihood(digits, means, covariances):\n",
    "    '''\n",
    "    Compute the generative log-likelihood:\n",
    "        log p(x|y,mu,Sigma)\n",
    "\n",
    "    Should return an n x 10 numpy array \n",
    "    '''\n",
    "    \n",
    "    return None\n",
    "\n",
    "def conditional_likelihood(digits, means, covariances):\n",
    "    '''\n",
    "    Compute the conditional likelihood:\n",
    "\n",
    "        log p(y|x, mu, Sigma)\n",
    "\n",
    "    This should be a numpy array of shape (n, 10)\n",
    "    Where n is the number of datapoints and 10 corresponds to each digit class\n",
    "    '''\n",
    "    return None\n",
    "\n",
    "def avg_conditional_likelihood(digits, labels, means, covariances):\n",
    "    '''\n",
    "    Compute the average conditional likelihood over the true class labels\n",
    "\n",
    "        AVG( log p(y_i|x_i, mu, Sigma) )\n",
    "\n",
    "    i.e. the average log likelihood that the model assigns to the correct class label\n",
    "    '''\n",
    "    cond_likelihood = conditional_likelihood(digits, means, covariances)\n",
    "\n",
    "    # Compute as described above and return\n",
    "    return None\n",
    "\n",
    "def classify_data(digits, means, covariances):\n",
    "    '''\n",
    "    Classify new points by taking the most likely posterior class\n",
    "    '''\n",
    "    cond_likelihood = conditional_likelihood(digits, means, covariances)\n",
    "    # Compute and return the most likely class\n",
    "    pass\n",
    "\n",
    "def main():\n",
    "    train_data, train_labels, test_data, test_labels = data.load_all_data('data')\n",
    "\n",
    "    # Fit the model\n",
    "    means = compute_mean_mles(train_data, train_labels)\n",
    "    covariances = compute_sigma_mles(train_data, train_labels)\n",
    "    plot_cov_diagonal(covariances)\n",
    "\n",
    "    # Evaluation\n",
    "\n",
    "if __name__ == '__main__':\n",
    "    main()"
   ]
  },
  {
   "cell_type": "code",
   "execution_count": null,
   "id": "fc605d42-f124-4510-8e11-dfc47babb9b1",
   "metadata": {},
   "outputs": [],
   "source": []
  },
  {
   "cell_type": "code",
   "execution_count": null,
   "id": "6613dbf6-d190-4535-b7c5-5fff88d098dd",
   "metadata": {},
   "outputs": [],
   "source": []
  }
 ],
 "metadata": {
  "kernelspec": {
   "display_name": "Python 3 (ipykernel)",
   "language": "python",
   "name": "python3"
  },
  "language_info": {
   "codemirror_mode": {
    "name": "ipython",
    "version": 3
   },
   "file_extension": ".py",
   "mimetype": "text/x-python",
   "name": "python",
   "nbconvert_exporter": "python",
   "pygments_lexer": "ipython3",
   "version": "3.10.0"
  }
 },
 "nbformat": 4,
 "nbformat_minor": 5
}
