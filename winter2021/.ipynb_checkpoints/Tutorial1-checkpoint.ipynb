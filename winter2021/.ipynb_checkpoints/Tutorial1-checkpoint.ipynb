{
 "cells": [
  {
   "cell_type": "markdown",
   "id": "8d2570a8-18d4-4112-814c-082fb247c9be",
   "metadata": {},
   "source": [
    "## Numpy Basics"
   ]
  },
  {
   "cell_type": "code",
   "execution_count": 1,
   "id": "06184c9e-d777-4fe3-9869-2c05e25a7596",
   "metadata": {},
   "outputs": [],
   "source": [
    "import numpy as np\n",
    "import time"
   ]
  },
  {
   "cell_type": "code",
   "execution_count": 3,
   "id": "e5fdeccb-9ee0-4461-9b2f-bace3c351540",
   "metadata": {},
   "outputs": [
    {
     "name": "stdout",
     "output_type": "stream",
     "text": [
      "[     0      1      2 ... 999997 999998 999999]\n",
      "(1000000,)\n"
     ]
    }
   ],
   "source": [
    "num_elements = 1000000\n",
    "input_array = np.arange(num_elements)\n",
    "print(input_array)\n",
    "print(input_array.shape)"
   ]
  },
  {
   "cell_type": "markdown",
   "id": "9dd4831e-5fb0-46ac-bc70-1bdbf4402cad",
   "metadata": {},
   "source": [
    "<b>np.arange</b> is one of the routines to create arrays in NumPy. It returns an array (an instance of ndarray) of evenly spaced values."
   ]
  },
  {
   "cell_type": "code",
   "execution_count": 8,
   "id": "38deed8a-85e7-4a9e-a863-27b5d875a982",
   "metadata": {},
   "outputs": [
    {
     "name": "stdout",
     "output_type": "stream",
     "text": [
      "[0 1 2 3 4]\n"
     ]
    }
   ],
   "source": [
    "print(np.arange(5)) # the i begins in 0"
   ]
  },
  {
   "cell_type": "code",
   "execution_count": 9,
   "id": "bc59b78c-ead7-4e14-87d2-3fe54d1f24ac",
   "metadata": {},
   "outputs": [
    {
     "name": "stdout",
     "output_type": "stream",
     "text": [
      "[2 3 4 5 6 7 8 9]\n"
     ]
    }
   ],
   "source": [
    "print(np.arange(2,10)) # (start, stop)"
   ]
  },
  {
   "cell_type": "code",
   "execution_count": 16,
   "id": "3fdadb6b-4c1a-428c-a5c4-b3c368f18d83",
   "metadata": {},
   "outputs": [
    {
     "name": "stdout",
     "output_type": "stream",
     "text": [
      "0.363400936126709\n"
     ]
    }
   ],
   "source": [
    "start_time = time.time()\n",
    "return_array = [0] * len(input_array)\n",
    "for k, v in enumerate(input_array): # populates the empty array\n",
    "    return_array[k] = v * v\n",
    "print(time.time() - start_time)"
   ]
  },
  {
   "cell_type": "code",
   "execution_count": 17,
   "id": "0b86e5c4-3fbd-46e7-a19e-02fd1953c448",
   "metadata": {},
   "outputs": [
    {
     "name": "stdout",
     "output_type": "stream",
     "text": [
      "[0, 0, 0, 0, 0]\n"
     ]
    }
   ],
   "source": [
    "print([0]*5) # creates an empty array"
   ]
  },
  {
   "cell_type": "code",
   "execution_count": 19,
   "id": "ee021450-9df5-44e1-a686-7029f850f3f2",
   "metadata": {},
   "outputs": [
    {
     "name": "stdout",
     "output_type": "stream",
     "text": [
      "4\n"
     ]
    }
   ],
   "source": [
    "print(return_array[2]) # sample of populated array"
   ]
  },
  {
   "cell_type": "code",
   "execution_count": 21,
   "id": "ee8a1af3-1a8d-4f1f-b159-e7770f0b6d40",
   "metadata": {},
   "outputs": [
    {
     "name": "stdout",
     "output_type": "stream",
     "text": [
      "0.021133899688720703\n"
     ]
    }
   ],
   "source": [
    "start_time = time.time()\n",
    "return_array_vectorized = np.power(input_array,2) # (base, power)\n",
    "print(time.time() - start_time)"
   ]
  },
  {
   "cell_type": "markdown",
   "id": "7fc4c5cf-b222-4939-bf5e-abcefabea3de",
   "metadata": {},
   "source": [
    "### Array operations"
   ]
  },
  {
   "cell_type": "code",
   "execution_count": 28,
   "id": "76391bdc-b340-4326-8ffd-c8a3cd934018",
   "metadata": {},
   "outputs": [
    {
     "data": {
      "text/plain": [
       "array([0., 0.])"
      ]
     },
     "execution_count": 28,
     "metadata": {},
     "output_type": "execute_result"
    }
   ],
   "source": [
    "np.zeros(2) # creates and empty array"
   ]
  },
  {
   "cell_type": "code",
   "execution_count": 26,
   "id": "b2efacfb-3b85-4a72-a25e-7b96e45272a7",
   "metadata": {},
   "outputs": [
    {
     "data": {
      "text/plain": [
       "array([[1., 0., 0.],\n",
       "       [0., 1., 0.],\n",
       "       [0., 0., 1.]])"
      ]
     },
     "execution_count": 26,
     "metadata": {},
     "output_type": "execute_result"
    }
   ],
   "source": [
    "np.identity(3) # identity matrix"
   ]
  },
  {
   "cell_type": "code",
   "execution_count": 27,
   "id": "9b19b155-3be9-4026-8dfe-fc7460752876",
   "metadata": {},
   "outputs": [
    {
     "data": {
      "text/plain": [
       "array([[1, 1, 1],\n",
       "       [1, 1, 1]], dtype=int16)"
      ]
     },
     "execution_count": 27,
     "metadata": {},
     "output_type": "execute_result"
    }
   ],
   "source": [
    "np.ones((2,3), dtype=np.int16) # dtype specifies the type of data"
   ]
  },
  {
   "cell_type": "code",
   "execution_count": 32,
   "id": "8a3e67fa-9a59-4078-9fc0-47f6a271702e",
   "metadata": {},
   "outputs": [
    {
     "data": {
      "text/plain": [
       "array([[1, 2],\n",
       "       [3, 4],\n",
       "       [5, 6]])"
      ]
     },
     "execution_count": 32,
     "metadata": {},
     "output_type": "execute_result"
    }
   ],
   "source": [
    "array_1 = np.array([[1,2], [3,4], [5,6]]) # creates an array\n",
    "array_1"
   ]
  },
  {
   "cell_type": "code",
   "execution_count": 35,
   "id": "20bc7c72-b427-40d4-96e4-895ff9265325",
   "metadata": {},
   "outputs": [
    {
     "name": "stdout",
     "output_type": "stream",
     "text": [
      "6\n",
      "(3, 2)\n",
      "2\n",
      "8\n",
      "int64\n",
      "48\n"
     ]
    }
   ],
   "source": [
    "print(array_1.size) # number of total elements\n",
    "print(array_1.shape)\n",
    "print(array_1.ndim) # number of axes or dimensions (i.e. x and y) \n",
    "print(array_1.itemsize) # number of bytes of each element (e.g. int is 8)\n",
    "print(array_1.dtype)\n",
    "print(array_1.nbytes) # 48 = 6 (elements in array) X 8 (itemsize)"
   ]
  },
  {
   "cell_type": "code",
   "execution_count": 36,
   "id": "58752d95-246f-4631-9792-a202d5d26a28",
   "metadata": {},
   "outputs": [
    {
     "data": {
      "text/plain": [
       "4"
      ]
     },
     "execution_count": 36,
     "metadata": {},
     "output_type": "execute_result"
    }
   ],
   "source": [
    "array_1[1,1] # row, col"
   ]
  },
  {
   "cell_type": "code",
   "execution_count": 39,
   "id": "08ea8c32-c79e-422a-9656-71236c48b4fa",
   "metadata": {},
   "outputs": [
    {
     "data": {
      "text/plain": [
       "array([2, 4, 6])"
      ]
     },
     "execution_count": 39,
     "metadata": {},
     "output_type": "execute_result"
    }
   ],
   "source": [
    "array_1[:,1] # for all rows (:) select the column 1"
   ]
  },
  {
   "cell_type": "code",
   "execution_count": 41,
   "id": "489557ea-847f-4bf5-85b4-1fb87cad2d39",
   "metadata": {},
   "outputs": [
    {
     "data": {
      "text/plain": [
       "array([3, 4])"
      ]
     },
     "execution_count": 41,
     "metadata": {},
     "output_type": "execute_result"
    }
   ],
   "source": [
    "array_1[1] # get row 1"
   ]
  },
  {
   "cell_type": "code",
   "execution_count": 42,
   "id": "aebeacec-0cbd-4ae6-8ba6-c16c98fa5bcb",
   "metadata": {},
   "outputs": [
    {
     "data": {
      "text/plain": [
       "2"
      ]
     },
     "execution_count": 42,
     "metadata": {},
     "output_type": "execute_result"
    }
   ],
   "source": [
    "array_1[0][1] # select a specific element"
   ]
  },
  {
   "cell_type": "code",
   "execution_count": 44,
   "id": "673dd82f-4fe1-4ed3-86cb-13f3ed9c5b61",
   "metadata": {},
   "outputs": [
    {
     "data": {
      "text/plain": [
       "array([[1],\n",
       "       [3],\n",
       "       [5]])"
      ]
     },
     "execution_count": 44,
     "metadata": {},
     "output_type": "execute_result"
    }
   ],
   "source": [
    "array_1[:, 0:1] # select for all rows, the colum [0:1] where the \"1\" is not inclusive"
   ]
  },
  {
   "cell_type": "code",
   "execution_count": 46,
   "id": "b1e788de-11e1-4500-9a11-382efdece79f",
   "metadata": {},
   "outputs": [
    {
     "data": {
      "text/plain": [
       "array([[2, 3],\n",
       "       [4, 5],\n",
       "       [6, 7]])"
      ]
     },
     "execution_count": 46,
     "metadata": {},
     "output_type": "execute_result"
    }
   ],
   "source": [
    "array_2 = np.add(array_1, 1) # array broadcasting of addition and scalar multiplication\n",
    "array_2"
   ]
  },
  {
   "cell_type": "code",
   "execution_count": 47,
   "id": "ae7d29fe-95bf-4135-a823-1c07381e3d74",
   "metadata": {},
   "outputs": [
    {
     "data": {
      "text/plain": [
       "array([[ 2,  4],\n",
       "       [ 6,  8],\n",
       "       [10, 12]])"
      ]
     },
     "execution_count": 47,
     "metadata": {},
     "output_type": "execute_result"
    }
   ],
   "source": [
    "np.multiply(array_1, 2) # array_1 * 2"
   ]
  },
  {
   "cell_type": "code",
   "execution_count": 48,
   "id": "bc9a5ea9-084a-40d4-9b99-fed412977ca4",
   "metadata": {},
   "outputs": [
    {
     "data": {
      "text/plain": [
       "array([[1, 2],\n",
       "       [3, 4],\n",
       "       [5, 6]])"
      ]
     },
     "execution_count": 48,
     "metadata": {},
     "output_type": "execute_result"
    }
   ],
   "source": [
    "array_1"
   ]
  },
  {
   "cell_type": "code",
   "execution_count": 49,
   "id": "e6329262-20f5-460a-b7ac-35659232b437",
   "metadata": {},
   "outputs": [
    {
     "data": {
      "text/plain": [
       "array([[0.5, 1. ],\n",
       "       [1.5, 2. ],\n",
       "       [2.5, 3. ]])"
      ]
     },
     "execution_count": 49,
     "metadata": {},
     "output_type": "execute_result"
    }
   ],
   "source": [
    "array_1 / 2"
   ]
  },
  {
   "cell_type": "code",
   "execution_count": 50,
   "id": "749322ec-b2e7-4dbc-b16b-8fd6f60132aa",
   "metadata": {},
   "outputs": [
    {
     "data": {
      "text/plain": [
       "array([[ 3,  5],\n",
       "       [ 7,  9],\n",
       "       [11, 13]])"
      ]
     },
     "execution_count": 50,
     "metadata": {},
     "output_type": "execute_result"
    }
   ],
   "source": [
    "array_1 + array_2 # array elementwise addition"
   ]
  },
  {
   "cell_type": "code",
   "execution_count": 52,
   "id": "e854192c-151b-42c2-adb5-c030ffb34273",
   "metadata": {},
   "outputs": [
    {
     "data": {
      "text/plain": [
       "array([[ 3,  5],\n",
       "       [ 7,  9],\n",
       "       [11, 13]])"
      ]
     },
     "execution_count": 52,
     "metadata": {},
     "output_type": "execute_result"
    }
   ],
   "source": [
    "np.add(array_1, array_2) # same as previpus line"
   ]
  },
  {
   "cell_type": "code",
   "execution_count": 53,
   "id": "2da9772f-d576-4e69-bed4-f5ea6a85d2fd",
   "metadata": {},
   "outputs": [
    {
     "data": {
      "text/plain": [
       "array([[ 1,  4],\n",
       "       [ 9, 16],\n",
       "       [25, 36]])"
      ]
     },
     "execution_count": 53,
     "metadata": {},
     "output_type": "execute_result"
    }
   ],
   "source": [
    "np.multiply(array_1, array_1)"
   ]
  },
  {
   "cell_type": "code",
   "execution_count": 54,
   "id": "94de429e-c58c-4cc6-8a0e-b7f6003fc71e",
   "metadata": {},
   "outputs": [
    {
     "data": {
      "text/plain": [
       "array([[11]])"
      ]
     },
     "execution_count": 54,
     "metadata": {},
     "output_type": "execute_result"
    }
   ],
   "source": [
    "array_3 = np.array([ [1,2]]) # shape (1,2)\n",
    "array_4 = np.array([ [3], [4]]) # shape (2,1)\n",
    "np.dot(array_3, array_4) # dot product"
   ]
  },
  {
   "cell_type": "code",
   "execution_count": 55,
   "id": "981164be-14f5-4b51-8ffd-4d9eada01456",
   "metadata": {},
   "outputs": [
    {
     "data": {
      "text/plain": [
       "array([[3, 6],\n",
       "       [4, 8]])"
      ]
     },
     "execution_count": 55,
     "metadata": {},
     "output_type": "execute_result"
    }
   ],
   "source": [
    "array_5 = np.dot(array_4, array_3)\n",
    "array_5"
   ]
  },
  {
   "cell_type": "code",
   "execution_count": 57,
   "id": "9e4789a4-8915-4520-abc2-2dbc5a6bc17b",
   "metadata": {},
   "outputs": [
    {
     "data": {
      "text/plain": [
       "array([ 9, 12])"
      ]
     },
     "execution_count": 57,
     "metadata": {},
     "output_type": "execute_result"
    }
   ],
   "source": [
    "array_5.sum(axis=1) # sum across axis X"
   ]
  },
  {
   "cell_type": "code",
   "execution_count": 59,
   "id": "e771a039-01f7-4016-8913-075eb679e2fa",
   "metadata": {},
   "outputs": [
    {
     "data": {
      "text/plain": [
       "array([4.5, 6. ])"
      ]
     },
     "execution_count": 59,
     "metadata": {},
     "output_type": "execute_result"
    }
   ],
   "source": [
    "array_5.mean(axis=1) # mean across axis X"
   ]
  },
  {
   "cell_type": "code",
   "execution_count": 60,
   "id": "92e1db8d-94dd-44dd-8878-2f778eb1f941",
   "metadata": {},
   "outputs": [
    {
     "data": {
      "text/plain": [
       "array([0.5, 1. ])"
      ]
     },
     "execution_count": 60,
     "metadata": {},
     "output_type": "execute_result"
    }
   ],
   "source": [
    "array_5.std(axis=0) # std across axis Y"
   ]
  },
  {
   "cell_type": "code",
   "execution_count": 61,
   "id": "bdcbb925-735c-42fd-8bed-dd3810714f9a",
   "metadata": {},
   "outputs": [
    {
     "data": {
      "text/plain": [
       "array([4, 8])"
      ]
     },
     "execution_count": 61,
     "metadata": {},
     "output_type": "execute_result"
    }
   ],
   "source": [
    "array_5.max(axis=0)"
   ]
  },
  {
   "cell_type": "code",
   "execution_count": 65,
   "id": "49a83b5f-5261-42a2-a552-18ea31c911b4",
   "metadata": {},
   "outputs": [
    {
     "name": "stdout",
     "output_type": "stream",
     "text": [
      "[[1 2]\n",
      " [3 4]\n",
      " [5 6]]\n",
      "1\n",
      "6\n",
      "21\n",
      "3.5\n",
      "2.9166666666666665\n",
      "1.707825127659933\n",
      "[ 3  7 11]\n",
      "[1 2]\n",
      "0\n",
      "5\n",
      "[[0 1]\n",
      " [0 1]]\n"
     ]
    }
   ],
   "source": [
    "print(array_1)\n",
    "print(array_1.min())\n",
    "print(array_1.max())\n",
    "print(array_1.sum()) # sum of all the elements\n",
    "print(array_1.mean()) \n",
    "print(array_1.var())\n",
    "print(array_1.std())\n",
    "print(array_1.sum(axis=1))\n",
    "print(array_1.min(axis=0))\n",
    "print(array_1.argmin()) # index of min element\n",
    "print(array_1.argmax()) # index of max element\n",
    "print(array_5.argsort())"
   ]
  },
  {
   "cell_type": "code",
   "execution_count": 66,
   "id": "d520d99e-7784-491b-b661-caebadb327df",
   "metadata": {},
   "outputs": [
    {
     "data": {
      "text/plain": [
       "(2, 2)"
      ]
     },
     "execution_count": 66,
     "metadata": {},
     "output_type": "execute_result"
    }
   ],
   "source": [
    "array_5.shape"
   ]
  },
  {
   "cell_type": "code",
   "execution_count": 67,
   "id": "c661f807-5baa-4b04-ac22-289e041f8eae",
   "metadata": {},
   "outputs": [
    {
     "data": {
      "text/plain": [
       "array([[3],\n",
       "       [6],\n",
       "       [4],\n",
       "       [8]])"
      ]
     },
     "execution_count": 67,
     "metadata": {},
     "output_type": "execute_result"
    }
   ],
   "source": [
    "array_5.reshape(4,1)"
   ]
  },
  {
   "cell_type": "code",
   "execution_count": 69,
   "id": "ba1c77d8-b4dc-41eb-8486-af0e38997b38",
   "metadata": {},
   "outputs": [
    {
     "data": {
      "text/plain": [
       "array([3, 6, 4, 8])"
      ]
     },
     "execution_count": 69,
     "metadata": {},
     "output_type": "execute_result"
    }
   ],
   "source": [
    "array_5.flatten() # get a copy of an array in one direction"
   ]
  },
  {
   "cell_type": "markdown",
   "id": "0d9e211f-bfb6-4329-b95f-76601f32167d",
   "metadata": {},
   "source": [
    "### Linear algebra"
   ]
  },
  {
   "cell_type": "code",
   "execution_count": 73,
   "id": "f2b27cd5-fc82-47dd-a0e5-41687a4419df",
   "metadata": {},
   "outputs": [
    {
     "name": "stdout",
     "output_type": "stream",
     "text": [
      "[[1 2]\n",
      " [3 4]\n",
      " [5 6]]\n"
     ]
    },
    {
     "data": {
      "text/plain": [
       "array([[1, 3, 5],\n",
       "       [2, 4, 6]])"
      ]
     },
     "execution_count": 73,
     "metadata": {},
     "output_type": "execute_result"
    }
   ],
   "source": [
    "print(array_1)\n",
    "M1 = array_1.T # Transpose\n",
    "M1"
   ]
  },
  {
   "cell_type": "code",
   "execution_count": 74,
   "id": "9e74cdbe-2ed4-4d00-98f9-5f08fe825c6f",
   "metadata": {},
   "outputs": [
    {
     "data": {
      "text/plain": [
       "array([[  1,  27, 125],\n",
       "       [  8,  64, 216]])"
      ]
     },
     "execution_count": 74,
     "metadata": {},
     "output_type": "execute_result"
    }
   ],
   "source": [
    "np.power(M1, 3) # matrix elementwise exponentiation"
   ]
  },
  {
   "cell_type": "code",
   "execution_count": 75,
   "id": "a50b7599-b445-4756-87f4-8855ca35e336",
   "metadata": {},
   "outputs": [
    {
     "data": {
      "text/plain": [
       "array([[ 5, 11, 17],\n",
       "       [11, 25, 39],\n",
       "       [17, 39, 61]])"
      ]
     },
     "execution_count": 75,
     "metadata": {},
     "output_type": "execute_result"
    }
   ],
   "source": [
    "np.matmul(M1.T, M1) # or np.dot(M1.T, M1)"
   ]
  },
  {
   "cell_type": "code",
   "execution_count": 77,
   "id": "ac08b2da-ecab-433f-b7a2-4d1343392f9a",
   "metadata": {},
   "outputs": [
    {
     "name": "stdout",
     "output_type": "stream",
     "text": [
      "[[35 44]\n",
      " [44 56]]\n",
      "[[ 5 11 17]\n",
      " [11 25 39]\n",
      " [17 39 61]]\n"
     ]
    }
   ],
   "source": [
    "print(np.matmul(M1, M1.T)) # Matrix multiplication IS NOT commutative\n",
    "print(np.matmul(M1.T, M1))"
   ]
  },
  {
   "cell_type": "code",
   "execution_count": 78,
   "id": "66b19ffd-0a45-4207-ada8-3e9e2f102a89",
   "metadata": {},
   "outputs": [
    {
     "data": {
      "text/plain": [
       "array([[0.5, 0. ],\n",
       "       [0. , 0.5]])"
      ]
     },
     "execution_count": 78,
     "metadata": {},
     "output_type": "execute_result"
    }
   ],
   "source": [
    "np.linalg.inv(np.array([[2,0],[0,2]]))"
   ]
  },
  {
   "cell_type": "code",
   "execution_count": 79,
   "id": "8c37f244-b42c-4788-90e8-2fd2bf1c9fa7",
   "metadata": {},
   "outputs": [
    {
     "ename": "LinAlgError",
     "evalue": "Singular matrix",
     "output_type": "error",
     "traceback": [
      "\u001b[0;31m---------------------------------------------------------------------------\u001b[0m",
      "\u001b[0;31mLinAlgError\u001b[0m                               Traceback (most recent call last)",
      "\u001b[0;32m<ipython-input-79-ea8d7da1edfb>\u001b[0m in \u001b[0;36m<module>\u001b[0;34m\u001b[0m\n\u001b[0;32m----> 1\u001b[0;31m \u001b[0mnp\u001b[0m\u001b[0;34m.\u001b[0m\u001b[0mlinalg\u001b[0m\u001b[0;34m.\u001b[0m\u001b[0minv\u001b[0m\u001b[0;34m(\u001b[0m\u001b[0mnp\u001b[0m\u001b[0;34m.\u001b[0m\u001b[0mmatmul\u001b[0m\u001b[0;34m(\u001b[0m\u001b[0mM1\u001b[0m\u001b[0;34m.\u001b[0m\u001b[0mT\u001b[0m\u001b[0;34m,\u001b[0m \u001b[0mM1\u001b[0m\u001b[0;34m)\u001b[0m\u001b[0;34m)\u001b[0m \u001b[0;31m# this should fail because it's a singular matrix (i.e. it's not invertible, it has a determinant of Zero)\u001b[0m\u001b[0;34m\u001b[0m\u001b[0;34m\u001b[0m\u001b[0m\n\u001b[0m",
      "\u001b[0;32m<__array_function__ internals>\u001b[0m in \u001b[0;36minv\u001b[0;34m(*args, **kwargs)\u001b[0m\n",
      "\u001b[0;32m~/.local/share/virtualenvs/csc2515-qt5Cto3q/lib/python3.7/site-packages/numpy/linalg/linalg.py\u001b[0m in \u001b[0;36minv\u001b[0;34m(a)\u001b[0m\n\u001b[1;32m    543\u001b[0m     \u001b[0msignature\u001b[0m \u001b[0;34m=\u001b[0m \u001b[0;34m'D->D'\u001b[0m \u001b[0;32mif\u001b[0m \u001b[0misComplexType\u001b[0m\u001b[0;34m(\u001b[0m\u001b[0mt\u001b[0m\u001b[0;34m)\u001b[0m \u001b[0;32melse\u001b[0m \u001b[0;34m'd->d'\u001b[0m\u001b[0;34m\u001b[0m\u001b[0;34m\u001b[0m\u001b[0m\n\u001b[1;32m    544\u001b[0m     \u001b[0mextobj\u001b[0m \u001b[0;34m=\u001b[0m \u001b[0mget_linalg_error_extobj\u001b[0m\u001b[0;34m(\u001b[0m\u001b[0m_raise_linalgerror_singular\u001b[0m\u001b[0;34m)\u001b[0m\u001b[0;34m\u001b[0m\u001b[0;34m\u001b[0m\u001b[0m\n\u001b[0;32m--> 545\u001b[0;31m     \u001b[0mainv\u001b[0m \u001b[0;34m=\u001b[0m \u001b[0m_umath_linalg\u001b[0m\u001b[0;34m.\u001b[0m\u001b[0minv\u001b[0m\u001b[0;34m(\u001b[0m\u001b[0ma\u001b[0m\u001b[0;34m,\u001b[0m \u001b[0msignature\u001b[0m\u001b[0;34m=\u001b[0m\u001b[0msignature\u001b[0m\u001b[0;34m,\u001b[0m \u001b[0mextobj\u001b[0m\u001b[0;34m=\u001b[0m\u001b[0mextobj\u001b[0m\u001b[0;34m)\u001b[0m\u001b[0;34m\u001b[0m\u001b[0;34m\u001b[0m\u001b[0m\n\u001b[0m\u001b[1;32m    546\u001b[0m     \u001b[0;32mreturn\u001b[0m \u001b[0mwrap\u001b[0m\u001b[0;34m(\u001b[0m\u001b[0mainv\u001b[0m\u001b[0;34m.\u001b[0m\u001b[0mastype\u001b[0m\u001b[0;34m(\u001b[0m\u001b[0mresult_t\u001b[0m\u001b[0;34m,\u001b[0m \u001b[0mcopy\u001b[0m\u001b[0;34m=\u001b[0m\u001b[0;32mFalse\u001b[0m\u001b[0;34m)\u001b[0m\u001b[0;34m)\u001b[0m\u001b[0;34m\u001b[0m\u001b[0;34m\u001b[0m\u001b[0m\n\u001b[1;32m    547\u001b[0m \u001b[0;34m\u001b[0m\u001b[0m\n",
      "\u001b[0;32m~/.local/share/virtualenvs/csc2515-qt5Cto3q/lib/python3.7/site-packages/numpy/linalg/linalg.py\u001b[0m in \u001b[0;36m_raise_linalgerror_singular\u001b[0;34m(err, flag)\u001b[0m\n\u001b[1;32m     86\u001b[0m \u001b[0;34m\u001b[0m\u001b[0m\n\u001b[1;32m     87\u001b[0m \u001b[0;32mdef\u001b[0m \u001b[0m_raise_linalgerror_singular\u001b[0m\u001b[0;34m(\u001b[0m\u001b[0merr\u001b[0m\u001b[0;34m,\u001b[0m \u001b[0mflag\u001b[0m\u001b[0;34m)\u001b[0m\u001b[0;34m:\u001b[0m\u001b[0;34m\u001b[0m\u001b[0;34m\u001b[0m\u001b[0m\n\u001b[0;32m---> 88\u001b[0;31m     \u001b[0;32mraise\u001b[0m \u001b[0mLinAlgError\u001b[0m\u001b[0;34m(\u001b[0m\u001b[0;34m\"Singular matrix\"\u001b[0m\u001b[0;34m)\u001b[0m\u001b[0;34m\u001b[0m\u001b[0;34m\u001b[0m\u001b[0m\n\u001b[0m\u001b[1;32m     89\u001b[0m \u001b[0;34m\u001b[0m\u001b[0m\n\u001b[1;32m     90\u001b[0m \u001b[0;32mdef\u001b[0m \u001b[0m_raise_linalgerror_nonposdef\u001b[0m\u001b[0;34m(\u001b[0m\u001b[0merr\u001b[0m\u001b[0;34m,\u001b[0m \u001b[0mflag\u001b[0m\u001b[0;34m)\u001b[0m\u001b[0;34m:\u001b[0m\u001b[0;34m\u001b[0m\u001b[0;34m\u001b[0m\u001b[0m\n",
      "\u001b[0;31mLinAlgError\u001b[0m: Singular matrix"
     ]
    }
   ],
   "source": [
    "np.linalg.inv(np.matmul(M1.T, M1)) # this should fail because it's a singular matrix (i.e. it's not invertible, it has a determinant of Zero)"
   ]
  },
  {
   "cell_type": "code",
   "execution_count": 82,
   "id": "28ced6b3-d96b-4179-bdee-012d9ebe2558",
   "metadata": {},
   "outputs": [
    {
     "data": {
      "text/plain": [
       "array([[4],\n",
       "       [2]])"
      ]
     },
     "execution_count": 82,
     "metadata": {},
     "output_type": "execute_result"
    }
   ],
   "source": [
    "A1 = np.array([[1,1], [0,1]]) # Evaluating linear systems Ax = b, for b\n",
    "x1 = np.array([[2], [2]])\n",
    "b1 = np.matmul(A1, x1)\n",
    "b1"
   ]
  },
  {
   "cell_type": "code",
   "execution_count": 83,
   "id": "126dfd6e-c64b-4068-8b54-c667027de95d",
   "metadata": {},
   "outputs": [
    {
     "data": {
      "text/plain": [
       "True"
      ]
     },
     "execution_count": 83,
     "metadata": {},
     "output_type": "execute_result"
    }
   ],
   "source": [
    "x1_verify = np.linalg.solve(A1, b1) # Solving linear systems Ax = b, for x\n",
    "all(x1 == x1_verify)"
   ]
  },
  {
   "cell_type": "code",
   "execution_count": 84,
   "id": "2a642613-77f8-4ae0-a311-9b4c9b426003",
   "metadata": {},
   "outputs": [
    {
     "data": {
      "text/plain": [
       "array([[ 5],\n",
       "       [10]])"
      ]
     },
     "execution_count": 84,
     "metadata": {},
     "output_type": "execute_result"
    }
   ],
   "source": [
    "# If A is singular, then the linear system may be \"overdetermined\" (i.e. no solution) when solving for x\n",
    "A2 = np.array([[1,1], [2,2]]) # Note that the rank of this matrix is 1\n",
    "x2 = np.array([[2], [3]])\n",
    "potential_sol = np.matmul(A2, x2)\n",
    "potential_sol"
   ]
  },
  {
   "cell_type": "code",
   "execution_count": 85,
   "id": "d4c948a2-6431-4b8c-b0bd-bf4f91aed192",
   "metadata": {},
   "outputs": [
    {
     "ename": "LinAlgError",
     "evalue": "Singular matrix",
     "output_type": "error",
     "traceback": [
      "\u001b[0;31m---------------------------------------------------------------------------\u001b[0m",
      "\u001b[0;31mLinAlgError\u001b[0m                               Traceback (most recent call last)",
      "\u001b[0;32m<ipython-input-85-f97977826f70>\u001b[0m in \u001b[0;36m<module>\u001b[0;34m\u001b[0m\n\u001b[1;32m      1\u001b[0m \u001b[0mb2\u001b[0m \u001b[0;34m=\u001b[0m \u001b[0mnp\u001b[0m\u001b[0;34m.\u001b[0m\u001b[0marray\u001b[0m\u001b[0;34m(\u001b[0m\u001b[0;34m(\u001b[0m\u001b[0;34m[\u001b[0m\u001b[0;36m5\u001b[0m\u001b[0;34m]\u001b[0m\u001b[0;34m,\u001b[0m \u001b[0;34m[\u001b[0m\u001b[0;36m11\u001b[0m\u001b[0;34m]\u001b[0m\u001b[0;34m)\u001b[0m\u001b[0;34m)\u001b[0m\u001b[0;34m\u001b[0m\u001b[0;34m\u001b[0m\u001b[0m\n\u001b[0;32m----> 2\u001b[0;31m \u001b[0mx2_verify\u001b[0m \u001b[0;34m=\u001b[0m \u001b[0mnp\u001b[0m\u001b[0;34m.\u001b[0m\u001b[0mlinalg\u001b[0m\u001b[0;34m.\u001b[0m\u001b[0msolve\u001b[0m\u001b[0;34m(\u001b[0m\u001b[0mA2\u001b[0m\u001b[0;34m,\u001b[0m \u001b[0mb2\u001b[0m\u001b[0;34m)\u001b[0m \u001b[0;31m# This should raise an exception\u001b[0m\u001b[0;34m\u001b[0m\u001b[0;34m\u001b[0m\u001b[0m\n\u001b[0m\u001b[1;32m      3\u001b[0m \u001b[0;31m# There is no selection of x to solve this linear system for A2 and b2\u001b[0m\u001b[0;34m\u001b[0m\u001b[0;34m\u001b[0m\u001b[0;34m\u001b[0m\u001b[0m\n",
      "\u001b[0;32m<__array_function__ internals>\u001b[0m in \u001b[0;36msolve\u001b[0;34m(*args, **kwargs)\u001b[0m\n",
      "\u001b[0;32m~/.local/share/virtualenvs/csc2515-qt5Cto3q/lib/python3.7/site-packages/numpy/linalg/linalg.py\u001b[0m in \u001b[0;36msolve\u001b[0;34m(a, b)\u001b[0m\n\u001b[1;32m    391\u001b[0m     \u001b[0msignature\u001b[0m \u001b[0;34m=\u001b[0m \u001b[0;34m'DD->D'\u001b[0m \u001b[0;32mif\u001b[0m \u001b[0misComplexType\u001b[0m\u001b[0;34m(\u001b[0m\u001b[0mt\u001b[0m\u001b[0;34m)\u001b[0m \u001b[0;32melse\u001b[0m \u001b[0;34m'dd->d'\u001b[0m\u001b[0;34m\u001b[0m\u001b[0;34m\u001b[0m\u001b[0m\n\u001b[1;32m    392\u001b[0m     \u001b[0mextobj\u001b[0m \u001b[0;34m=\u001b[0m \u001b[0mget_linalg_error_extobj\u001b[0m\u001b[0;34m(\u001b[0m\u001b[0m_raise_linalgerror_singular\u001b[0m\u001b[0;34m)\u001b[0m\u001b[0;34m\u001b[0m\u001b[0;34m\u001b[0m\u001b[0m\n\u001b[0;32m--> 393\u001b[0;31m     \u001b[0mr\u001b[0m \u001b[0;34m=\u001b[0m \u001b[0mgufunc\u001b[0m\u001b[0;34m(\u001b[0m\u001b[0ma\u001b[0m\u001b[0;34m,\u001b[0m \u001b[0mb\u001b[0m\u001b[0;34m,\u001b[0m \u001b[0msignature\u001b[0m\u001b[0;34m=\u001b[0m\u001b[0msignature\u001b[0m\u001b[0;34m,\u001b[0m \u001b[0mextobj\u001b[0m\u001b[0;34m=\u001b[0m\u001b[0mextobj\u001b[0m\u001b[0;34m)\u001b[0m\u001b[0;34m\u001b[0m\u001b[0;34m\u001b[0m\u001b[0m\n\u001b[0m\u001b[1;32m    394\u001b[0m \u001b[0;34m\u001b[0m\u001b[0m\n\u001b[1;32m    395\u001b[0m     \u001b[0;32mreturn\u001b[0m \u001b[0mwrap\u001b[0m\u001b[0;34m(\u001b[0m\u001b[0mr\u001b[0m\u001b[0;34m.\u001b[0m\u001b[0mastype\u001b[0m\u001b[0;34m(\u001b[0m\u001b[0mresult_t\u001b[0m\u001b[0;34m,\u001b[0m \u001b[0mcopy\u001b[0m\u001b[0;34m=\u001b[0m\u001b[0;32mFalse\u001b[0m\u001b[0;34m)\u001b[0m\u001b[0;34m)\u001b[0m\u001b[0;34m\u001b[0m\u001b[0;34m\u001b[0m\u001b[0m\n",
      "\u001b[0;32m~/.local/share/virtualenvs/csc2515-qt5Cto3q/lib/python3.7/site-packages/numpy/linalg/linalg.py\u001b[0m in \u001b[0;36m_raise_linalgerror_singular\u001b[0;34m(err, flag)\u001b[0m\n\u001b[1;32m     86\u001b[0m \u001b[0;34m\u001b[0m\u001b[0m\n\u001b[1;32m     87\u001b[0m \u001b[0;32mdef\u001b[0m \u001b[0m_raise_linalgerror_singular\u001b[0m\u001b[0;34m(\u001b[0m\u001b[0merr\u001b[0m\u001b[0;34m,\u001b[0m \u001b[0mflag\u001b[0m\u001b[0;34m)\u001b[0m\u001b[0;34m:\u001b[0m\u001b[0;34m\u001b[0m\u001b[0;34m\u001b[0m\u001b[0m\n\u001b[0;32m---> 88\u001b[0;31m     \u001b[0;32mraise\u001b[0m \u001b[0mLinAlgError\u001b[0m\u001b[0;34m(\u001b[0m\u001b[0;34m\"Singular matrix\"\u001b[0m\u001b[0;34m)\u001b[0m\u001b[0;34m\u001b[0m\u001b[0;34m\u001b[0m\u001b[0m\n\u001b[0m\u001b[1;32m     89\u001b[0m \u001b[0;34m\u001b[0m\u001b[0m\n\u001b[1;32m     90\u001b[0m \u001b[0;32mdef\u001b[0m \u001b[0m_raise_linalgerror_nonposdef\u001b[0m\u001b[0;34m(\u001b[0m\u001b[0merr\u001b[0m\u001b[0;34m,\u001b[0m \u001b[0mflag\u001b[0m\u001b[0;34m)\u001b[0m\u001b[0;34m:\u001b[0m\u001b[0;34m\u001b[0m\u001b[0;34m\u001b[0m\u001b[0m\n",
      "\u001b[0;31mLinAlgError\u001b[0m: Singular matrix"
     ]
    }
   ],
   "source": [
    "b2 = np.array(([5], [11]))\n",
    "x2_verify = np.linalg.solve(A2, b2) # This should raise an exception\n",
    "# There is no selection of x to solve this linear system for A2 and b2"
   ]
  },
  {
   "cell_type": "code",
   "execution_count": 86,
   "id": "175e2e21-4ef0-46e2-b8b2-3fd6517612a0",
   "metadata": {},
   "outputs": [
    {
     "ename": "LinAlgError",
     "evalue": "Singular matrix",
     "output_type": "error",
     "traceback": [
      "\u001b[0;31m---------------------------------------------------------------------------\u001b[0m",
      "\u001b[0;31mLinAlgError\u001b[0m                               Traceback (most recent call last)",
      "\u001b[0;32m<ipython-input-86-4869de74c126>\u001b[0m in \u001b[0;36m<module>\u001b[0;34m\u001b[0m\n\u001b[0;32m----> 1\u001b[0;31m \u001b[0mx2_verify\u001b[0m  \u001b[0;34m=\u001b[0m \u001b[0mnp\u001b[0m\u001b[0;34m.\u001b[0m\u001b[0mlinalg\u001b[0m\u001b[0;34m.\u001b[0m\u001b[0msolve\u001b[0m\u001b[0;34m(\u001b[0m\u001b[0mA2\u001b[0m\u001b[0;34m,\u001b[0m \u001b[0mpotential_sol\u001b[0m\u001b[0;34m)\u001b[0m \u001b[0;31m# This should raise an exception. There happens to exist an X to solve this system, but numpy still fails.\u001b[0m\u001b[0;34m\u001b[0m\u001b[0;34m\u001b[0m\u001b[0m\n\u001b[0m",
      "\u001b[0;32m<__array_function__ internals>\u001b[0m in \u001b[0;36msolve\u001b[0;34m(*args, **kwargs)\u001b[0m\n",
      "\u001b[0;32m~/.local/share/virtualenvs/csc2515-qt5Cto3q/lib/python3.7/site-packages/numpy/linalg/linalg.py\u001b[0m in \u001b[0;36msolve\u001b[0;34m(a, b)\u001b[0m\n\u001b[1;32m    391\u001b[0m     \u001b[0msignature\u001b[0m \u001b[0;34m=\u001b[0m \u001b[0;34m'DD->D'\u001b[0m \u001b[0;32mif\u001b[0m \u001b[0misComplexType\u001b[0m\u001b[0;34m(\u001b[0m\u001b[0mt\u001b[0m\u001b[0;34m)\u001b[0m \u001b[0;32melse\u001b[0m \u001b[0;34m'dd->d'\u001b[0m\u001b[0;34m\u001b[0m\u001b[0;34m\u001b[0m\u001b[0m\n\u001b[1;32m    392\u001b[0m     \u001b[0mextobj\u001b[0m \u001b[0;34m=\u001b[0m \u001b[0mget_linalg_error_extobj\u001b[0m\u001b[0;34m(\u001b[0m\u001b[0m_raise_linalgerror_singular\u001b[0m\u001b[0;34m)\u001b[0m\u001b[0;34m\u001b[0m\u001b[0;34m\u001b[0m\u001b[0m\n\u001b[0;32m--> 393\u001b[0;31m     \u001b[0mr\u001b[0m \u001b[0;34m=\u001b[0m \u001b[0mgufunc\u001b[0m\u001b[0;34m(\u001b[0m\u001b[0ma\u001b[0m\u001b[0;34m,\u001b[0m \u001b[0mb\u001b[0m\u001b[0;34m,\u001b[0m \u001b[0msignature\u001b[0m\u001b[0;34m=\u001b[0m\u001b[0msignature\u001b[0m\u001b[0;34m,\u001b[0m \u001b[0mextobj\u001b[0m\u001b[0;34m=\u001b[0m\u001b[0mextobj\u001b[0m\u001b[0;34m)\u001b[0m\u001b[0;34m\u001b[0m\u001b[0;34m\u001b[0m\u001b[0m\n\u001b[0m\u001b[1;32m    394\u001b[0m \u001b[0;34m\u001b[0m\u001b[0m\n\u001b[1;32m    395\u001b[0m     \u001b[0;32mreturn\u001b[0m \u001b[0mwrap\u001b[0m\u001b[0;34m(\u001b[0m\u001b[0mr\u001b[0m\u001b[0;34m.\u001b[0m\u001b[0mastype\u001b[0m\u001b[0;34m(\u001b[0m\u001b[0mresult_t\u001b[0m\u001b[0;34m,\u001b[0m \u001b[0mcopy\u001b[0m\u001b[0;34m=\u001b[0m\u001b[0;32mFalse\u001b[0m\u001b[0;34m)\u001b[0m\u001b[0;34m)\u001b[0m\u001b[0;34m\u001b[0m\u001b[0;34m\u001b[0m\u001b[0m\n",
      "\u001b[0;32m~/.local/share/virtualenvs/csc2515-qt5Cto3q/lib/python3.7/site-packages/numpy/linalg/linalg.py\u001b[0m in \u001b[0;36m_raise_linalgerror_singular\u001b[0;34m(err, flag)\u001b[0m\n\u001b[1;32m     86\u001b[0m \u001b[0;34m\u001b[0m\u001b[0m\n\u001b[1;32m     87\u001b[0m \u001b[0;32mdef\u001b[0m \u001b[0m_raise_linalgerror_singular\u001b[0m\u001b[0;34m(\u001b[0m\u001b[0merr\u001b[0m\u001b[0;34m,\u001b[0m \u001b[0mflag\u001b[0m\u001b[0;34m)\u001b[0m\u001b[0;34m:\u001b[0m\u001b[0;34m\u001b[0m\u001b[0;34m\u001b[0m\u001b[0m\n\u001b[0;32m---> 88\u001b[0;31m     \u001b[0;32mraise\u001b[0m \u001b[0mLinAlgError\u001b[0m\u001b[0;34m(\u001b[0m\u001b[0;34m\"Singular matrix\"\u001b[0m\u001b[0;34m)\u001b[0m\u001b[0;34m\u001b[0m\u001b[0;34m\u001b[0m\u001b[0m\n\u001b[0m\u001b[1;32m     89\u001b[0m \u001b[0;34m\u001b[0m\u001b[0m\n\u001b[1;32m     90\u001b[0m \u001b[0;32mdef\u001b[0m \u001b[0m_raise_linalgerror_nonposdef\u001b[0m\u001b[0;34m(\u001b[0m\u001b[0merr\u001b[0m\u001b[0;34m,\u001b[0m \u001b[0mflag\u001b[0m\u001b[0;34m)\u001b[0m\u001b[0;34m:\u001b[0m\u001b[0;34m\u001b[0m\u001b[0;34m\u001b[0m\u001b[0m\n",
      "\u001b[0;31mLinAlgError\u001b[0m: Singular matrix"
     ]
    }
   ],
   "source": [
    "x2_verify  = np.linalg.solve(A2, potential_sol) # This should raise an exception. There happens to exist an X to solve this system, but numpy still fails."
   ]
  },
  {
   "cell_type": "code",
   "execution_count": 87,
   "id": "510ee6fe-b5fc-49b0-8eba-071fe4a7194e",
   "metadata": {},
   "outputs": [
    {
     "data": {
      "text/plain": [
       "array([[1],\n",
       "       [2]])"
      ]
     },
     "execution_count": 87,
     "metadata": {},
     "output_type": "execute_result"
    }
   ],
   "source": [
    "# Another linear system that is undetermined (many solutions) when solving for x\n",
    "A3 = np.array([[1,0,0], [0,1,1]])\n",
    "x3 = np.array([[1], [1], [1]])\n",
    "b3 = np.matmul(A3, x3)\n",
    "b3"
   ]
  },
  {
   "cell_type": "code",
   "execution_count": 89,
   "id": "a149aec9-77cd-47a5-903c-f420242cc6e6",
   "metadata": {},
   "outputs": [
    {
     "ename": "LinAlgError",
     "evalue": "Last 2 dimensions of the array must be square",
     "output_type": "error",
     "traceback": [
      "\u001b[0;31m---------------------------------------------------------------------------\u001b[0m",
      "\u001b[0;31mLinAlgError\u001b[0m                               Traceback (most recent call last)",
      "\u001b[0;32m<ipython-input-89-6cb77b1ddced>\u001b[0m in \u001b[0;36m<module>\u001b[0;34m\u001b[0m\n\u001b[0;32m----> 1\u001b[0;31m \u001b[0mnp\u001b[0m\u001b[0;34m.\u001b[0m\u001b[0mlinalg\u001b[0m\u001b[0;34m.\u001b[0m\u001b[0msolve\u001b[0m\u001b[0;34m(\u001b[0m\u001b[0mA3\u001b[0m\u001b[0;34m,\u001b[0m \u001b[0mb3\u001b[0m\u001b[0;34m)\u001b[0m \u001b[0;31m# This should raise an exception\u001b[0m\u001b[0;34m\u001b[0m\u001b[0;34m\u001b[0m\u001b[0m\n\u001b[0m",
      "\u001b[0;32m<__array_function__ internals>\u001b[0m in \u001b[0;36msolve\u001b[0;34m(*args, **kwargs)\u001b[0m\n",
      "\u001b[0;32m~/.local/share/virtualenvs/csc2515-qt5Cto3q/lib/python3.7/site-packages/numpy/linalg/linalg.py\u001b[0m in \u001b[0;36msolve\u001b[0;34m(a, b)\u001b[0m\n\u001b[1;32m    378\u001b[0m     \u001b[0ma\u001b[0m\u001b[0;34m,\u001b[0m \u001b[0m_\u001b[0m \u001b[0;34m=\u001b[0m \u001b[0m_makearray\u001b[0m\u001b[0;34m(\u001b[0m\u001b[0ma\u001b[0m\u001b[0;34m)\u001b[0m\u001b[0;34m\u001b[0m\u001b[0;34m\u001b[0m\u001b[0m\n\u001b[1;32m    379\u001b[0m     \u001b[0m_assert_stacked_2d\u001b[0m\u001b[0;34m(\u001b[0m\u001b[0ma\u001b[0m\u001b[0;34m)\u001b[0m\u001b[0;34m\u001b[0m\u001b[0;34m\u001b[0m\u001b[0m\n\u001b[0;32m--> 380\u001b[0;31m     \u001b[0m_assert_stacked_square\u001b[0m\u001b[0;34m(\u001b[0m\u001b[0ma\u001b[0m\u001b[0;34m)\u001b[0m\u001b[0;34m\u001b[0m\u001b[0;34m\u001b[0m\u001b[0m\n\u001b[0m\u001b[1;32m    381\u001b[0m     \u001b[0mb\u001b[0m\u001b[0;34m,\u001b[0m \u001b[0mwrap\u001b[0m \u001b[0;34m=\u001b[0m \u001b[0m_makearray\u001b[0m\u001b[0;34m(\u001b[0m\u001b[0mb\u001b[0m\u001b[0;34m)\u001b[0m\u001b[0;34m\u001b[0m\u001b[0;34m\u001b[0m\u001b[0m\n\u001b[1;32m    382\u001b[0m     \u001b[0mt\u001b[0m\u001b[0;34m,\u001b[0m \u001b[0mresult_t\u001b[0m \u001b[0;34m=\u001b[0m \u001b[0m_commonType\u001b[0m\u001b[0;34m(\u001b[0m\u001b[0ma\u001b[0m\u001b[0;34m,\u001b[0m \u001b[0mb\u001b[0m\u001b[0;34m)\u001b[0m\u001b[0;34m\u001b[0m\u001b[0;34m\u001b[0m\u001b[0m\n",
      "\u001b[0;32m~/.local/share/virtualenvs/csc2515-qt5Cto3q/lib/python3.7/site-packages/numpy/linalg/linalg.py\u001b[0m in \u001b[0;36m_assert_stacked_square\u001b[0;34m(*arrays)\u001b[0m\n\u001b[1;32m    201\u001b[0m         \u001b[0mm\u001b[0m\u001b[0;34m,\u001b[0m \u001b[0mn\u001b[0m \u001b[0;34m=\u001b[0m \u001b[0ma\u001b[0m\u001b[0;34m.\u001b[0m\u001b[0mshape\u001b[0m\u001b[0;34m[\u001b[0m\u001b[0;34m-\u001b[0m\u001b[0;36m2\u001b[0m\u001b[0;34m:\u001b[0m\u001b[0;34m]\u001b[0m\u001b[0;34m\u001b[0m\u001b[0;34m\u001b[0m\u001b[0m\n\u001b[1;32m    202\u001b[0m         \u001b[0;32mif\u001b[0m \u001b[0mm\u001b[0m \u001b[0;34m!=\u001b[0m \u001b[0mn\u001b[0m\u001b[0;34m:\u001b[0m\u001b[0;34m\u001b[0m\u001b[0;34m\u001b[0m\u001b[0m\n\u001b[0;32m--> 203\u001b[0;31m             \u001b[0;32mraise\u001b[0m \u001b[0mLinAlgError\u001b[0m\u001b[0;34m(\u001b[0m\u001b[0;34m'Last 2 dimensions of the array must be square'\u001b[0m\u001b[0;34m)\u001b[0m\u001b[0;34m\u001b[0m\u001b[0;34m\u001b[0m\u001b[0m\n\u001b[0m\u001b[1;32m    204\u001b[0m \u001b[0;34m\u001b[0m\u001b[0m\n\u001b[1;32m    205\u001b[0m \u001b[0;32mdef\u001b[0m \u001b[0m_assert_finite\u001b[0m\u001b[0;34m(\u001b[0m\u001b[0;34m*\u001b[0m\u001b[0marrays\u001b[0m\u001b[0;34m)\u001b[0m\u001b[0;34m:\u001b[0m\u001b[0;34m\u001b[0m\u001b[0;34m\u001b[0m\u001b[0m\n",
      "\u001b[0;31mLinAlgError\u001b[0m: Last 2 dimensions of the array must be square"
     ]
    }
   ],
   "source": [
    "np.linalg.solve(A3, b3) # This should raise an exception"
   ]
  },
  {
   "cell_type": "markdown",
   "id": "d1b04745-7975-4705-bfd6-0077b739abce",
   "metadata": {},
   "source": [
    "## K-nearest neighbors (KNN)"
   ]
  },
  {
   "cell_type": "code",
   "execution_count": 73,
   "id": "ddb4a3ed-2afe-4f6a-afa3-88f95b13ced7",
   "metadata": {},
   "outputs": [],
   "source": [
    "import numpy as np\n",
    "import pylab as plt\n",
    "import scipy.spatial.distance as scidist\n",
    "np.random.seed(1234)"
   ]
  },
  {
   "cell_type": "code",
   "execution_count": 74,
   "id": "62b9ab1b-2551-4f0e-ac89-4417e609d7bc",
   "metadata": {},
   "outputs": [],
   "source": [
    "import seaborn as sns\n",
    "sns.set_palette('bright')"
   ]
  },
  {
   "cell_type": "code",
   "execution_count": 75,
   "id": "7465cde6-a92a-49ff-a884-9578683571c1",
   "metadata": {},
   "outputs": [],
   "source": [
    "def gen_data(N1=100, N2=100):\n",
    "    \"\"\"Generates 2D samples from two Gaussians centered at (1, 1) and (-1, -1).\n",
    "    \n",
    "    Parameters:\n",
    "    N1 (int): Number of samples from Gaussian centered at (1, 1) labeled as 0\n",
    "    N2 (int): Number of samples from Gaussian centered at (-1, -1) labeled as 1\n",
    "    \n",
    "    Returns:\n",
    "    X: Sample data (D, N)\n",
    "    Y: Labels (N,)\n",
    "    \"\"\"\n",
    "    X1 = np.random.normal(0, 1, size=(2, N1)) + np.array([[1], [1]]) # shift the center to (1,1)\n",
    "    X2 = np.random.normal(0, 1, size=(2, N2)) + np.array([[-1], [-1]])\n",
    "    Y1 = np.zeros((N1,)) # half of Y is filled with zeroes\n",
    "    Y2 = np.ones((N2,)) # half of Y is filled with ones \n",
    "    X = np.hstack((X1, X2))\n",
    "    Y = np.hstack((Y1, Y2))\n",
    "    print('X contains %d Examples of Class 1 and %d Examples of Class 2 in %d dimensions.'\n",
    "          % (X1.shape[1], X2.shape[1], X.shape[0])) # Shape of X: (2, 200), X.shape[0] -> 2\n",
    "    print('Shape of X: %s' % (X.shape, ))\n",
    "    print('Shape of Y: %s' % (Y.shape, ))\n",
    "    return X, Y"
   ]
  },
  {
   "cell_type": "code",
   "execution_count": 76,
   "id": "f1f99935-e74a-4e52-8bf2-a83357a1a76b",
   "metadata": {},
   "outputs": [
    {
     "name": "stdout",
     "output_type": "stream",
     "text": [
      "Generate Train data ...\n",
      "X contains 100 Examples of Class 1 and 100 Examples of Class 2 in 2 dimensions.\n",
      "Shape of X: (2, 200)\n",
      "Shape of Y: (200,)\n"
     ]
    }
   ],
   "source": [
    "print('Generate Train data ...')\n",
    "Xtrain, Ytrain = gen_data()"
   ]
  },
  {
   "cell_type": "code",
   "execution_count": 77,
   "id": "ec4bf95d-f5c7-4b89-8e24-8bf6e6936c5d",
   "metadata": {},
   "outputs": [],
   "source": [
    "#Xtrain # (2, 200)"
   ]
  },
  {
   "cell_type": "code",
   "execution_count": 78,
   "id": "d49396b0-b100-458a-96a6-0564e60d07f2",
   "metadata": {},
   "outputs": [
    {
     "data": {
      "text/plain": [
       "array([0., 0., 0., 0., 0., 0., 0., 0., 0., 0., 0., 0., 0., 0., 0., 0., 0.,\n",
       "       0., 0., 0., 0., 0., 0., 0., 0., 0., 0., 0., 0., 0., 0., 0., 0., 0.,\n",
       "       0., 0., 0., 0., 0., 0., 0., 0., 0., 0., 0., 0., 0., 0., 0., 0., 0.,\n",
       "       0., 0., 0., 0., 0., 0., 0., 0., 0., 0., 0., 0., 0., 0., 0., 0., 0.,\n",
       "       0., 0., 0., 0., 0., 0., 0., 0., 0., 0., 0., 0., 0., 0., 0., 0., 0.,\n",
       "       0., 0., 0., 0., 0., 0., 0., 0., 0., 0., 0., 0., 0., 0., 0., 1., 1.,\n",
       "       1., 1., 1., 1., 1., 1., 1., 1., 1., 1., 1., 1., 1., 1., 1., 1., 1.,\n",
       "       1., 1., 1., 1., 1., 1., 1., 1., 1., 1., 1., 1., 1., 1., 1., 1., 1.,\n",
       "       1., 1., 1., 1., 1., 1., 1., 1., 1., 1., 1., 1., 1., 1., 1., 1., 1.,\n",
       "       1., 1., 1., 1., 1., 1., 1., 1., 1., 1., 1., 1., 1., 1., 1., 1., 1.,\n",
       "       1., 1., 1., 1., 1., 1., 1., 1., 1., 1., 1., 1., 1., 1., 1., 1., 1.,\n",
       "       1., 1., 1., 1., 1., 1., 1., 1., 1., 1., 1., 1., 1.])"
      ]
     },
     "execution_count": 78,
     "metadata": {},
     "output_type": "execute_result"
    }
   ],
   "source": [
    "Ytrain #(200, )"
   ]
  },
  {
   "cell_type": "code",
   "execution_count": 79,
   "id": "975c70bf-3fd5-495f-af99-d40e332b13db",
   "metadata": {},
   "outputs": [
    {
     "data": {
      "text/plain": [
       "array([[ 2.43341927,  0.6904232 ,  3.88959749, -0.1751587 ],\n",
       "       [ 2.51131897,  1.8414515 ,  5.47353712,  6.47161845]])"
      ]
     },
     "execution_count": 79,
     "metadata": {},
     "output_type": "execute_result"
    }
   ],
   "source": [
    "# Example\n",
    "np.random.normal(3, 2.5, size=(2,4))"
   ]
  },
  {
   "cell_type": "code",
   "execution_count": 80,
   "id": "21bdeaf3-53f8-41c1-bbfc-7a46d93c748a",
   "metadata": {},
   "outputs": [
    {
     "name": "stdout",
     "output_type": "stream",
     "text": [
      "[[5.71928434 4.09700316 0.5959944  6.11402484]\n",
      " [4.25731379 1.42150305 1.23936988 2.39879366]]\n",
      "[[6.71928434 5.09700316 1.5959944  7.11402484]\n",
      " [5.25731379 2.42150305 2.23936988 3.39879366]]\n",
      "[[ 4.71928434  3.09700316 -0.4040056   5.11402484]\n",
      " [ 3.25731379  0.42150305  0.23936988  1.39879366]]\n",
      "[[0.]\n",
      " [0.]\n",
      " [0.]\n",
      " [0.]\n",
      " [0.]]\n",
      "[0. 0. 0. 0. 0.]\n"
     ]
    }
   ],
   "source": [
    "# Resource on np.random.normal: https://www.sharpsightlabs.com/blog/numpy-random-normal/\n",
    "A = np.random.normal(3, 2.5, size=(2,4))\n",
    "print(A)\n",
    "print(A + np.array([ [1], [1]])) # np.array([ [1], [1]]) make possible for the distribution to be \"re-centered\" at (1,1)\n",
    "print(A + np.array([ [-1], [-1]]))\n",
    "\n",
    "print(np.zeros((5,1)))\n",
    "print(np.zeros((5,)))"
   ]
  },
  {
   "cell_type": "code",
   "execution_count": 81,
   "id": "2927bdff-aa46-4e70-bf35-29c4fc1a2f21",
   "metadata": {},
   "outputs": [
    {
     "name": "stdout",
     "output_type": "stream",
     "text": [
      "Generate Test data...\n",
      "X contains 100 Examples of Class 1 and 100 Examples of Class 2 in 2 dimensions.\n",
      "Shape of X: (2, 200)\n",
      "Shape of Y: (200,)\n"
     ]
    }
   ],
   "source": [
    "print('Generate Test data...')\n",
    "Xtest, Ytest = gen_data()"
   ]
  },
  {
   "cell_type": "code",
   "execution_count": 82,
   "id": "adb7fa35-d85e-43af-8edf-3c3a77b8872c",
   "metadata": {},
   "outputs": [],
   "source": [
    "def plot_data(X, Y, prefix=''):\n",
    "    for i in range(int(Y.max())+1):\n",
    "        plt.scatter(X[0, Y==i], X[1, Y==i], label='%s Class %d' % (prefix, i))"
   ]
  },
  {
   "cell_type": "code",
   "execution_count": 83,
   "id": "24e764f8-ff0d-48d2-84b1-21b9e6c0fd51",
   "metadata": {},
   "outputs": [
    {
     "name": "stdout",
     "output_type": "stream",
     "text": [
      "Train data\n"
     ]
    },
    {
     "data": {
      "image/png": "[encoded data removed]",
      "text/plain": [
       "<Figure size 432x288 with 1 Axes>"
      ]
     },
     "metadata": {
      "needs_background": "light"
     },
     "output_type": "display_data"
    }
   ],
   "source": [
    "print('Train data')\n",
    "plot_data(Xtrain, Ytrain)"
   ]
  },
  {
   "cell_type": "code",
   "execution_count": 84,
   "id": "162e6d12-df4b-4a28-9743-6ab843e9bf07",
   "metadata": {},
   "outputs": [
    {
     "name": "stdout",
     "output_type": "stream",
     "text": [
      "Test data\n"
     ]
    },
    {
     "data": {
      "image/png": "[encoded data removed]",
      "text/plain": [
       "<Figure size 432x288 with 1 Axes>"
      ]
     },
     "metadata": {
      "needs_background": "light"
     },
     "output_type": "display_data"
    }
   ],
   "source": [
    "print('Test data')\n",
    "plot_data(Xtest, Ytest)"
   ]
  },
  {
   "cell_type": "code",
   "execution_count": 106,
   "id": "f5e53752-7e10-42e9-95f9-edeca9f02d05",
   "metadata": {},
   "outputs": [],
   "source": [
    "\"\"\"\n",
    "Compute distance to all training points\n",
    "\n",
    "Parameters:\n",
    "    Xa: shape: (D, N)\n",
    "    Xb: shape: (D, 1)\n",
    "    \n",
    "    Returns:\n",
    "    dist: shape: (N,)\n",
    "\"\"\"\n",
    "def cdist_single_numpy(Xa, Xb):\n",
    "    return np.sqrt( ( (Xa-Xb)**2 ).sum(0) ) # Euclidean distance -> d = SQRT[ (X-Y)^2 ]\n",
    "\n",
    "def cdist_single_linalg(Xa, Xb):\n",
    "    return np.linalg.norm(Xa-Xb, axis=0) # axis=0 is Y or Columns\n",
    "\n",
    "def cdist_single_scidist(Xa, Xb):\n",
    "    return scidist.cdist(Xa.T, Xb.T)[0] # return shape of cdist is (1, 200)\n",
    "\n",
    "cdist = cdist_single_numpy"
   ]
  },
  {
   "cell_type": "code",
   "execution_count": 120,
   "id": "34e522ed-71e4-4a92-98d2-d89b263b36a3",
   "metadata": {},
   "outputs": [
    {
     "name": "stdout",
     "output_type": "stream",
     "text": [
      "[[1 2 3]\n",
      " [4 5 6]]\n",
      "(2, 3)\n",
      "[[1]\n",
      " [2]]\n",
      "(2, 1)\n",
      "[[2.        ]\n",
      " [3.16227766]\n",
      " [4.47213595]]\n",
      "[[0 1 2]\n",
      " [2 3 4]]\n",
      "[ 4 10 20]\n",
      "[2.         3.16227766 4.47213595]\n",
      "(3,)\n"
     ]
    }
   ],
   "source": [
    "r = np.array([ [1,2,3], [4,5,6]])\n",
    "print(r)\n",
    "print(r.shape)\n",
    "\n",
    "s = np.array([ [1], [2]])\n",
    "print(s)\n",
    "print(s.shape)\n",
    "\n",
    "print(cdist(r,s))\n",
    "\n",
    "print(r-s) # The substraction is pairwise\n",
    "print(((r-s)**2).sum(0)) # The sum is in the Y coordinate\n",
    "t = np.sqrt( ((r-s)**2).sum(0) )\n",
    "print(t)\n",
    "print(t.shape)"
   ]
  },
  {
   "cell_type": "code",
   "execution_count": 118,
   "id": "04ba606c-562c-4dcf-aeee-e4a58f325e4f",
   "metadata": {},
   "outputs": [],
   "source": [
    "def knn_predict_single(Xtrain, Ytrain, Xquery, k=3):\n",
    "    \"\"\"\n",
    "        Predict the label of a single data point (Xquery) using KNN.\n",
    "        \n",
    "        1. Compute distance\n",
    "        2. Find k nearest neighbors\n",
    "        3. Choose the highest voted label\n",
    "        \n",
    "        Returns:\n",
    "        Ypred: Predicted label (1,)\n",
    "    \"\"\"\n",
    "    print(\"Xquery shape before:\")\n",
    "    print(Xquery.shape)\n",
    "    Xquery = Xquery.reshape( (Xtrain.shape[0], 1) ) # Shape of Xquery is (2, 1)\n",
    "    print(\"Xquery shape after:\")\n",
    "    print(Xquery.shape)\n",
    "    \n",
    "    # 1. compute distance to all training points\n",
    "    dist = cdist(Xtrain, Xquery)\n",
    "    print(\"dist shape:\")\n",
    "    print(dist.shape)\n",
    "\n",
    "    # 2. find k smallest distances (k nearest neighbors)\n",
    "    knn_indices = np.argsort(dist)[:k] # agsort -> Returns the indices that would sort an array\n",
    "    print(\"knn_indices:\")\n",
    "    print(knn_indices)\n",
    "    \n",
    "    # 3. choose highest voted label\n",
    "    yvotes = Ytrain[knn_indices]\n",
    "    print(\"yvotes:\")\n",
    "    print(yvotes)\n",
    "    yvotes, ycounts = np.unique(yvotes, return_counts=True) # unique -> Returns the unique elements in an array\n",
    "    print(\"yvotes, ycounts:\")\n",
    "    print(yvotes,ycounts)\n",
    "    max_vote = np.argmax(ycounts) # returns the index of the greatest number\n",
    "    print(\"max_vote:\")\n",
    "    print(max_vote)\n",
    "    pred_y = yvotes[max_vote]\n",
    "    \n",
    "    return pred_y"
   ]
  },
  {
   "cell_type": "code",
   "execution_count": 119,
   "id": "70da5f82-3b0d-449f-a597-1ff2a1d859b8",
   "metadata": {},
   "outputs": [
    {
     "name": "stdout",
     "output_type": "stream",
     "text": [
      "Xtrain shape:\n",
      "(2, 200)\n",
      "Xquery shape:\n",
      "(2, 1)\n",
      "Xquery before:\n",
      "[[1.58559931]\n",
      " [1.3620182 ]]\n",
      "----\n",
      "Xquery after:\n",
      "[[1.58559931]\n",
      " [1.3620182 ]]\n",
      "----\n",
      "Xquery shape before:\n",
      "(2, 1)\n",
      "Xquery shape after:\n",
      "(2, 1)\n",
      "dist shape:\n",
      "(200, 1)\n",
      "knn_indices:\n",
      "[[0]\n",
      " [0]\n",
      " [0]]\n",
      "yvotes:\n",
      "[[0.]\n",
      " [0.]\n",
      " [0.]]\n",
      "yvotes, ycounts:\n",
      "[0.] [3]\n",
      "max_vote:\n",
      "0\n",
      "Predicted as Class 0\n"
     ]
    },
    {
     "data": {
      "image/png": "[encoded data removed]",
      "text/plain": [
       "<Figure size 432x288 with 1 Axes>"
      ]
     },
     "metadata": {
      "needs_background": "light"
     },
     "output_type": "display_data"
    }
   ],
   "source": [
    "# choose a single sample to query\n",
    "print(\"Xtrain shape:\")\n",
    "print(Xtrain.shape)\n",
    "print(\"Xquery shape:\")\n",
    "print(Xquery.shape)\n",
    "print(\"Xquery before:\")\n",
    "print(Xquery)\n",
    "print(\"----\")\n",
    "\n",
    "Xquery = Xtest[:, 0:1] # Shape of Xquery is (2,1), two rows and first (out of 200) column\n",
    "print(\"Xquery after:\")\n",
    "print(Xquery)\n",
    "print(\"----\")\n",
    "\n",
    "pred_y = knn_predict_single(Xtrain, Ytrain, Xquery, k=3)\n",
    "plot_data(Xtrain, Ytrain) # Plot orange and blue dots, it uses a previously defined function\n",
    "plt.scatter(Xquery[0], Xquery[1], s=100, marker='x', label='Query')\n",
    "plt.legend()\n",
    "print('Predicted as Class %d' % pred_y)"
   ]
  },
  {
   "cell_type": "code",
   "execution_count": 113,
   "id": "25f89b15-49ff-4a92-82e6-24c1e3b9b2e1",
   "metadata": {},
   "outputs": [],
   "source": [
    "def knn_predict_multi(Xtrain, Ytrain, Xquery, k=3):\n",
    "    \"\"\" Predict the label of a single data point (Xquery) using k-nearest-neighbors.\n",
    "    \n",
    "    Parameters:\n",
    "    Xtrain: Train data, shape: (D, N)\n",
    "    Ytrain: Train labels, shape (D,)\n",
    "    Xquery: Query data, shape: (D,M)\n",
    "    \n",
    "    Returns:\n",
    "    Ypred: Predicted label(M,)\n",
    "    \"\"\"\n",
    "    # 1. compute distance to all training points, this one works for multiple queries\n",
    "    dist = cdist(Xtrain, Xquery) # (N, M)\n",
    "    print(dist.shape)\n",
    "    print(dist)\n",
    "    \n",
    "    # 2. find k smallest distances (k nearest neighbors)\n",
    "    knn_indices = np.argsort(dist, axis=0)[:k, :] #(3, 200)\n",
    "    print(\"knn_indices:\")\n",
    "    print(knn_indices.shape)\n",
    "    print(knn_indices)\n",
    "    \n",
    "    # 3. choose highest voted label\n",
    "    yvotes = Ytrain[knn_indices]\n",
    "    print(\"yvotes:\")\n",
    "    print(yvotes)\n",
    "    y0count = (yvotes == 0).sum(0)\n",
    "    y1count = (yvotes == 1).sum(0)\n",
    "    pred_y = (y0count < y1count).astype(int)\n",
    "    \n",
    "    return pred_y"
   ]
  },
  {
   "cell_type": "code",
   "execution_count": 114,
   "id": "e533a2d3-dc01-414f-bdb2-5a4e1bf5e984",
   "metadata": {},
   "outputs": [],
   "source": [
    "\"\"\"\n",
    "    Compute distance to all training points, all 3 do the same thing\n",
    "    \n",
    "    Parameters:\n",
    "    Xa: shape: (D, N)\n",
    "    Xb: shape: (D, M)\n",
    "    \n",
    "    Returns:\n",
    "    dist: shape: (N, M)\n",
    "\"\"\"\n",
    "# I don't understand how this works\n",
    "def cdist_multi_numpy(Xa, Xb):\n",
    "    # sqrt(|Xa|^2 + |Xb|^2 - 2 Xa^T Xb)\n",
    "    Xa2 = (Xa**2).sum(0).reshape((-1, 1)) # reshape ?  -> (1, 200)\n",
    "    Xb2 = (Xb**2).sum(0).reshape((1, -1)) # reshape ?  -> (1,)\n",
    "    XaXb = np.dot(Xa.T, Xb) # Transpose of Xa from (2,200) to (200,2) # DOT product -> (200, 2) DOT (2, 1) yields a matrix (200, 1)\n",
    "    return np.sqrt(Xa2+Xb2-2*XaXb)\n",
    "\n",
    "def cdist_multi_bad_memory(Xa, Xb):\n",
    "    Xa = Xa[:, :, np.newaxis]\n",
    "    Xb = Xb[:, np.newaxis, :]\n",
    "    return np.sqrt(((Xa-Xb)**2).sum(0))\n",
    "\n",
    "def cdist_multi_scidist(Xa, Xb):\n",
    "    return scidist.cdist(Xa.T, Xb.T)  # return shape of cdist is (M, N)\n",
    "\n",
    "cdist = cdist_multi_numpy\n",
    "# cdist = cdist_multi_bad_memory\n",
    "# cdist = cdist_multi_scidist"
   ]
  },
  {
   "cell_type": "code",
   "execution_count": 123,
   "id": "8af45a45-18a1-4790-8dbe-084e045141f1",
   "metadata": {},
   "outputs": [
    {
     "name": "stdout",
     "output_type": "stream",
     "text": [
      "Xtrain shape:\n",
      "(2, 200)\n",
      "Xquery shape:\n",
      "(2, 1)\n",
      "[[1.58559931]\n",
      " [1.3620182 ]]\n",
      "----\n",
      " Query reshape:\n",
      "4.3692187401586144\n",
      "[[4.36921874]]\n",
      "[[4.36921874]]\n",
      "----\n",
      "(200, 200)\n",
      "[[0.13434251 0.30537308 2.42728651 ... 3.75685928 5.76936043 4.0152947 ]\n",
      " [1.78830795 1.54378814 0.82429827 ... 3.40892454 5.17687117 3.71944829]\n",
      " [0.85885648 1.08210855 3.30337195 ... 4.52468983 6.55915964 4.75357515]\n",
      " ...\n",
      " [4.4932321  4.51019246 4.16821602 ... 0.74934239 1.42056927 0.73387153]\n",
      " [4.88801357 4.81240751 3.76751615 ... 1.99133512 2.06652635 2.11217857]\n",
      " [2.93652681 2.74776996 1.27593078 ... 2.82531943 4.25298295 3.13350971]]\n",
      "knn_indices:\n",
      "(3, 200)\n",
      "[[ 23  16  13  45   4  53  31 113  63  96  31  76  54  71  45 160  64 116\n",
      "  157  89  21   3  75  93  93  94  37  22  14 128  16  31  51   7  51  68\n",
      "   40  25  70  42 195  18  98  52  75  51  77  16  16  86  79  85  37 128\n",
      "   18  28  84  66  85  40  71  51  84  44 142  52  28  96 136  90  93  90\n",
      "   93  13  34  48   4 122  95  53 121 113  13  54  31  48   3  57   4  66\n",
      "   16  11  25  57  95  99  75  10 142  42 109 163  81 185 192  65 187 183\n",
      "  111 161 138 132 172 101 170 197 142 181 154 140 156 123 140 163 197  52\n",
      "  142 125 125 136 198 143 148 125 187 144 161 191  81 168 120 102  85 177\n",
      "  117 183 124 181 183 129 144  53  85 102 136 112 112 125 111 163 104 132\n",
      "  143 183   9 143 166 129   3 125 195 177 100 110 178 130 163 108 199 104\n",
      "  139 197 105 167  58 107 140  81 137   9 176 102 161 167   7 163  85 118\n",
      "  172 166]\n",
      " [  0  23  51 165  60  15  90  73  35  14   0  37  37  22 165  99  89 142\n",
      "   27  24   7  53  64 160  99  69  79  71  96  99  42  90   1  21  13  40\n",
      "   42   3  96  40 114  82  67 136  59   1  67  97  23  73  84 108  54 193\n",
      "   82  46  44  59 108  42  62   1  79   5  92 136  46  14  27   3  99  83\n",
      "   99 103  50  12  25 141  57  96  35 121 103  37   0  50  90  15  25   2\n",
      "   42 137   3  95  20 160  64  32  92  46 177 115 155 179 173 126 167 115\n",
      "  185 122 110 196 154 156 153 172  92 132 194 100 148 112 100 115 188  27\n",
      "  116 198 198 161 152 155 159 198 104 152  43 146 155 101  43 129 108 109\n",
      "  133 114 118 117 150 153 172   3  99 129  52 145 193  81 188 123 175 196\n",
      "  152 150 100 134 154 102  30 144 114 166 140 138 147 138 115 114 126 109\n",
      "  142 188 133 146  71   9 100 186  80 107  27 196 122 146  21 123  99 124\n",
      "  144 169]\n",
      " [ 50   0 164   7  25  83   0 121  55  20  83  49  79  88  52  63  87 122\n",
      "   52  11  41  30  87  99 160  97  54  88  20 193  40   0  60  45 164  16\n",
      "   68  28  14  46  85  48  77  45  66 164  70  68   0  72  44 121  76  85\n",
      "   59  25   5  75 121  47  88 164  44  84 193 157   4  20  52  53 128  31\n",
      "  160  51  97  26  28 178  61  14  63  35 164  51  48   0  30  95  60  10\n",
      "   40  38  28  15  57  93  89  29 116  40 154 145 198 170 159 199 104 146\n",
      "  188 136 131 127 197 168 124 144 193 196 172 127 101 139 127 129 179 136\n",
      "   92 152  81  52 134 134 173 152 175 111 122 119 198 100   9 153 195 166\n",
      "  105 150 174 185 114 102 197  90 121 138 161 123 195 198 197 115 109 181\n",
      "  134 146 168 105 194 163  25 198 145 169 127 190 162 184 145  36 176 175\n",
      "  110 179 117 187  72 100 132 151  56 100 199 130  43 187  41 138 160 149\n",
      "  197 149]]\n",
      "yvotes:\n",
      "[[0. 0. 0. 0. 0. 0. 0. 1. 0. 0. 0. 0. 0. 0. 0. 1. 0. 1. 1. 0. 0. 0. 0. 0.\n",
      "  0. 0. 0. 0. 0. 1. 0. 0. 0. 0. 0. 0. 0. 0. 0. 0. 1. 0. 0. 0. 0. 0. 0. 0.\n",
      "  0. 0. 0. 0. 0. 1. 0. 0. 0. 0. 0. 0. 0. 0. 0. 0. 1. 0. 0. 0. 1. 0. 0. 0.\n",
      "  0. 0. 0. 0. 0. 1. 0. 0. 1. 1. 0. 0. 0. 0. 0. 0. 0. 0. 0. 0. 0. 0. 0. 0.\n",
      "  0. 0. 1. 0. 1. 1. 0. 1. 1. 0. 1. 1. 1. 1. 1. 1. 1. 1. 1. 1. 1. 1. 1. 1.\n",
      "  1. 1. 1. 1. 1. 0. 1. 1. 1. 1. 1. 1. 1. 1. 1. 1. 1. 1. 0. 1. 1. 1. 0. 1.\n",
      "  1. 1. 1. 1. 1. 1. 1. 0. 0. 1. 1. 1. 1. 1. 1. 1. 1. 1. 1. 1. 0. 1. 1. 1.\n",
      "  0. 1. 1. 1. 1. 1. 1. 1. 1. 1. 1. 1. 1. 1. 1. 1. 0. 1. 1. 0. 1. 0. 1. 1.\n",
      "  1. 1. 0. 1. 0. 1. 1. 1.]\n",
      " [0. 0. 0. 1. 0. 0. 0. 0. 0. 0. 0. 0. 0. 0. 1. 0. 0. 1. 0. 0. 0. 0. 0. 1.\n",
      "  0. 0. 0. 0. 0. 0. 0. 0. 0. 0. 0. 0. 0. 0. 0. 0. 1. 0. 0. 1. 0. 0. 0. 0.\n",
      "  0. 0. 0. 1. 0. 1. 0. 0. 0. 0. 1. 0. 0. 0. 0. 0. 0. 1. 0. 0. 0. 0. 0. 0.\n",
      "  0. 1. 0. 0. 0. 1. 0. 0. 0. 1. 1. 0. 0. 0. 0. 0. 0. 0. 0. 1. 0. 0. 0. 1.\n",
      "  0. 0. 0. 0. 1. 1. 1. 1. 1. 1. 1. 1. 1. 1. 1. 1. 1. 1. 1. 1. 0. 1. 1. 1.\n",
      "  1. 1. 1. 1. 1. 0. 1. 1. 1. 1. 1. 1. 1. 1. 1. 1. 0. 1. 1. 1. 0. 1. 1. 1.\n",
      "  1. 1. 1. 1. 1. 1. 1. 0. 0. 1. 0. 1. 1. 0. 1. 1. 1. 1. 1. 1. 1. 1. 1. 1.\n",
      "  0. 1. 1. 1. 1. 1. 1. 1. 1. 1. 1. 1. 1. 1. 1. 1. 0. 0. 1. 1. 0. 1. 0. 1.\n",
      "  1. 1. 0. 1. 0. 1. 1. 1.]\n",
      " [0. 0. 1. 0. 0. 0. 0. 1. 0. 0. 0. 0. 0. 0. 0. 0. 0. 1. 0. 0. 0. 0. 0. 0.\n",
      "  1. 0. 0. 0. 0. 1. 0. 0. 0. 0. 1. 0. 0. 0. 0. 0. 0. 0. 0. 0. 0. 1. 0. 0.\n",
      "  0. 0. 0. 1. 0. 0. 0. 0. 0. 0. 1. 0. 0. 1. 0. 0. 1. 1. 0. 0. 0. 0. 1. 0.\n",
      "  1. 0. 0. 0. 0. 1. 0. 0. 0. 0. 1. 0. 0. 0. 0. 0. 0. 0. 0. 0. 0. 0. 0. 0.\n",
      "  0. 0. 1. 0. 1. 1. 1. 1. 1. 1. 1. 1. 1. 1. 1. 1. 1. 1. 1. 1. 1. 1. 1. 1.\n",
      "  1. 1. 1. 1. 1. 1. 0. 1. 0. 0. 1. 1. 1. 1. 1. 1. 1. 1. 1. 1. 0. 1. 1. 1.\n",
      "  1. 1. 1. 1. 1. 1. 1. 0. 1. 1. 1. 1. 1. 1. 1. 1. 1. 1. 1. 1. 1. 1. 1. 1.\n",
      "  0. 1. 1. 1. 1. 1. 1. 1. 1. 0. 1. 1. 1. 1. 1. 1. 0. 1. 1. 1. 0. 1. 1. 1.\n",
      "  0. 1. 0. 1. 1. 1. 1. 1.]]\n"
     ]
    },
    {
     "data": {
      "text/plain": [
       "<matplotlib.legend.Legend at 0x11f05ab90>"
      ]
     },
     "execution_count": 123,
     "metadata": {},
     "output_type": "execute_result"
    },
    {
     "data": {
      "image/png": "[encoded data removed]",
      "text/plain": [
       "<Figure size 432x288 with 1 Axes>"
      ]
     },
     "metadata": {
      "needs_background": "light"
     },
     "output_type": "display_data"
    }
   ],
   "source": [
    "print(\"Xtrain shape:\")\n",
    "print(Xtrain.shape)\n",
    "print(\"Xquery shape:\")\n",
    "print(Xquery.shape)\n",
    "print(Xquery)\n",
    "print(\"----\")\n",
    "\n",
    "print(\" Query reshape:\")\n",
    "print( (Xquery**2).sum() )\n",
    "print( (Xquery**2).sum().reshape((-1,1)) )\n",
    "print( (Xquery**2).sum().reshape((1,-1)) )\n",
    "\n",
    "print(\"----\")\n",
    "pred_y = knn_predict_multi(Xtrain, Ytrain, Xtest, k=3)\n",
    "plot_data(Xtrain, Ytrain, prefix='Train ')\n",
    "plot_data(Xtest, pred_y, prefix='Test pred')\n",
    "plt.legend()"
   ]
  },
  {
   "cell_type": "code",
   "execution_count": null,
   "id": "2a125d74-cbd3-4fe4-811e-5ac38156fdad",
   "metadata": {},
   "outputs": [],
   "source": []
  }
 ],
 "metadata": {
  "kernelspec": {
   "display_name": "Python 3",
   "language": "python",
   "name": "python3"
  },
  "language_info": {
   "codemirror_mode": {
    "name": "ipython",
    "version": 3
   },
   "file_extension": ".py",
   "mimetype": "text/x-python",
   "name": "python",
   "nbconvert_exporter": "python",
   "pygments_lexer": "ipython3",
   "version": "3.7.7"
  }
 },
 "nbformat": 4,
 "nbformat_minor": 5
}
