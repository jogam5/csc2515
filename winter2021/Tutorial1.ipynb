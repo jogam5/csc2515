{
 "cells": [
  {
   "cell_type": "markdown",
   "id": "8d2570a8-18d4-4112-814c-082fb247c9be",
   "metadata": {},
   "source": [
    "## Numpy Basics"
   ]
  },
  {
   "cell_type": "code",
   "execution_count": 1,
   "id": "06184c9e-d777-4fe3-9869-2c05e25a7596",
   "metadata": {},
   "outputs": [],
   "source": [
    "import numpy as np\n",
    "import time"
   ]
  },
  {
   "cell_type": "code",
   "execution_count": 3,
   "id": "e5fdeccb-9ee0-4461-9b2f-bace3c351540",
   "metadata": {},
   "outputs": [
    {
     "name": "stdout",
     "output_type": "stream",
     "text": [
      "[     0      1      2 ... 999997 999998 999999]\n",
      "(1000000,)\n"
     ]
    }
   ],
   "source": [
    "num_elements = 1000000\n",
    "input_array = np.arange(num_elements)\n",
    "print(input_array)\n",
    "print(input_array.shape)"
   ]
  },
  {
   "cell_type": "markdown",
   "id": "9dd4831e-5fb0-46ac-bc70-1bdbf4402cad",
   "metadata": {},
   "source": [
    "<b>np.arange</b> is one of the routines to create arrays in NumPy. It returns an array (an instance of ndarray) of evenly spaced values."
   ]
  },
  {
   "cell_type": "code",
   "execution_count": 8,
   "id": "38deed8a-85e7-4a9e-a863-27b5d875a982",
   "metadata": {},
   "outputs": [
    {
     "name": "stdout",
     "output_type": "stream",
     "text": [
      "[0 1 2 3 4]\n"
     ]
    }
   ],
   "source": [
    "print(np.arange(5)) # the i begins in 0"
   ]
  },
  {
   "cell_type": "code",
   "execution_count": 9,
   "id": "bc59b78c-ead7-4e14-87d2-3fe54d1f24ac",
   "metadata": {},
   "outputs": [
    {
     "name": "stdout",
     "output_type": "stream",
     "text": [
      "[2 3 4 5 6 7 8 9]\n"
     ]
    }
   ],
   "source": [
    "print(np.arange(2,10)) # (start, stop)"
   ]
  },
  {
   "cell_type": "code",
   "execution_count": 16,
   "id": "3fdadb6b-4c1a-428c-a5c4-b3c368f18d83",
   "metadata": {},
   "outputs": [
    {
     "name": "stdout",
     "output_type": "stream",
     "text": [
      "0.363400936126709\n"
     ]
    }
   ],
   "source": [
    "start_time = time.time()\n",
    "return_array = [0] * len(input_array)\n",
    "for k, v in enumerate(input_array): # populates the empty array\n",
    "    return_array[k] = v * v\n",
    "print(time.time() - start_time)"
   ]
  },
  {
   "cell_type": "code",
   "execution_count": 17,
   "id": "0b86e5c4-3fbd-46e7-a19e-02fd1953c448",
   "metadata": {},
   "outputs": [
    {
     "name": "stdout",
     "output_type": "stream",
     "text": [
      "[0, 0, 0, 0, 0]\n"
     ]
    }
   ],
   "source": [
    "print([0]*5) # creates an empty array"
   ]
  },
  {
   "cell_type": "code",
   "execution_count": 19,
   "id": "ee021450-9df5-44e1-a686-7029f850f3f2",
   "metadata": {},
   "outputs": [
    {
     "name": "stdout",
     "output_type": "stream",
     "text": [
      "4\n"
     ]
    }
   ],
   "source": [
    "print(return_array[2]) # sample of populated array"
   ]
  },
  {
   "cell_type": "code",
   "execution_count": 21,
   "id": "ee8a1af3-1a8d-4f1f-b159-e7770f0b6d40",
   "metadata": {},
   "outputs": [
    {
     "name": "stdout",
     "output_type": "stream",
     "text": [
      "0.021133899688720703\n"
     ]
    }
   ],
   "source": [
    "start_time = time.time()\n",
    "return_array_vectorized = np.power(input_array,2) # (base, power)\n",
    "print(time.time() - start_time)"
   ]
  },
  {
   "cell_type": "markdown",
   "id": "7fc4c5cf-b222-4939-bf5e-abcefabea3de",
   "metadata": {},
   "source": [
    "### Array operations"
   ]
  },
  {
   "cell_type": "code",
   "execution_count": 28,
   "id": "76391bdc-b340-4326-8ffd-c8a3cd934018",
   "metadata": {},
   "outputs": [
    {
     "data": {
      "text/plain": [
       "array([0., 0.])"
      ]
     },
     "execution_count": 28,
     "metadata": {},
     "output_type": "execute_result"
    }
   ],
   "source": [
    "np.zeros(2) # creates and empty array"
   ]
  },
  {
   "cell_type": "code",
   "execution_count": 26,
   "id": "b2efacfb-3b85-4a72-a25e-7b96e45272a7",
   "metadata": {},
   "outputs": [
    {
     "data": {
      "text/plain": [
       "array([[1., 0., 0.],\n",
       "       [0., 1., 0.],\n",
       "       [0., 0., 1.]])"
      ]
     },
     "execution_count": 26,
     "metadata": {},
     "output_type": "execute_result"
    }
   ],
   "source": [
    "np.identity(3) # identity matrix"
   ]
  },
  {
   "cell_type": "code",
   "execution_count": 27,
   "id": "9b19b155-3be9-4026-8dfe-fc7460752876",
   "metadata": {},
   "outputs": [
    {
     "data": {
      "text/plain": [
       "array([[1, 1, 1],\n",
       "       [1, 1, 1]], dtype=int16)"
      ]
     },
     "execution_count": 27,
     "metadata": {},
     "output_type": "execute_result"
    }
   ],
   "source": [
    "np.ones((2,3), dtype=np.int16) # dtype specifies the type of data"
   ]
  },
  {
   "cell_type": "code",
   "execution_count": 32,
   "id": "8a3e67fa-9a59-4078-9fc0-47f6a271702e",
   "metadata": {},
   "outputs": [
    {
     "data": {
      "text/plain": [
       "array([[1, 2],\n",
       "       [3, 4],\n",
       "       [5, 6]])"
      ]
     },
     "execution_count": 32,
     "metadata": {},
     "output_type": "execute_result"
    }
   ],
   "source": [
    "array_1 = np.array([[1,2], [3,4], [5,6]]) # creates an array\n",
    "array_1"
   ]
  },
  {
   "cell_type": "code",
   "execution_count": 35,
   "id": "20bc7c72-b427-40d4-96e4-895ff9265325",
   "metadata": {},
   "outputs": [
    {
     "name": "stdout",
     "output_type": "stream",
     "text": [
      "6\n",
      "(3, 2)\n",
      "2\n",
      "8\n",
      "int64\n",
      "48\n"
     ]
    }
   ],
   "source": [
    "print(array_1.size) # number of total elements\n",
    "print(array_1.shape)\n",
    "print(array_1.ndim) # number of axes or dimensions (i.e. x and y) \n",
    "print(array_1.itemsize) # number of bytes of each element (e.g. int is 8)\n",
    "print(array_1.dtype)\n",
    "print(array_1.nbytes) # 48 = 6 (elements in array) X 8 (itemsize)"
   ]
  },
  {
   "cell_type": "code",
   "execution_count": 36,
   "id": "58752d95-246f-4631-9792-a202d5d26a28",
   "metadata": {},
   "outputs": [
    {
     "data": {
      "text/plain": [
       "4"
      ]
     },
     "execution_count": 36,
     "metadata": {},
     "output_type": "execute_result"
    }
   ],
   "source": [
    "array_1[1,1] # row, col"
   ]
  },
  {
   "cell_type": "code",
   "execution_count": 39,
   "id": "08ea8c32-c79e-422a-9656-71236c48b4fa",
   "metadata": {},
   "outputs": [
    {
     "data": {
      "text/plain": [
       "array([2, 4, 6])"
      ]
     },
     "execution_count": 39,
     "metadata": {},
     "output_type": "execute_result"
    }
   ],
   "source": [
    "array_1[:,1] # for all rows (:) select the column 1"
   ]
  },
  {
   "cell_type": "code",
   "execution_count": 41,
   "id": "489557ea-847f-4bf5-85b4-1fb87cad2d39",
   "metadata": {},
   "outputs": [
    {
     "data": {
      "text/plain": [
       "array([3, 4])"
      ]
     },
     "execution_count": 41,
     "metadata": {},
     "output_type": "execute_result"
    }
   ],
   "source": [
    "array_1[1] # get row 1"
   ]
  },
  {
   "cell_type": "code",
   "execution_count": 42,
   "id": "aebeacec-0cbd-4ae6-8ba6-c16c98fa5bcb",
   "metadata": {},
   "outputs": [
    {
     "data": {
      "text/plain": [
       "2"
      ]
     },
     "execution_count": 42,
     "metadata": {},
     "output_type": "execute_result"
    }
   ],
   "source": [
    "array_1[0][1] # select a specific element"
   ]
  },
  {
   "cell_type": "code",
   "execution_count": null,
   "id": "673dd82f-4fe1-4ed3-86cb-13f3ed9c5b61",
   "metadata": {},
   "outputs": [],
   "source": [
    "array_1[:]"
   ]
  }
 ],
 "metadata": {
  "kernelspec": {
   "display_name": "Python 3",
   "language": "python",
   "name": "python3"
  },
  "language_info": {
   "codemirror_mode": {
    "name": "ipython",
    "version": 3
   },
   "file_extension": ".py",
   "mimetype": "text/x-python",
   "name": "python",
   "nbconvert_exporter": "python",
   "pygments_lexer": "ipython3",
   "version": "3.7.7"
  }
 },
 "nbformat": 4,
 "nbformat_minor": 5
}
